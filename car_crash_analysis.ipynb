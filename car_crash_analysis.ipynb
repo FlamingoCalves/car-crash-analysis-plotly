{
 "cells": [
  {
   "cell_type": "markdown",
   "metadata": {},
   "source": [
    "# Car Crash Data Analysis in Monroe County (2003-2015)\n",
    "\n",
    "## Context and Purpose\n",
    "This project aims to explore and understand the patterns in car crash data spanning from 2003 to 2015 in Monroe County, New York. The primary goal is to answer the question: \"How do factors such as time of day, day of the week, and month impact the frequency and severity of car accidents?\" Additionally, this project serves as an opportunity to enhance my data science skills, with a focus on mastering the visualization capabilities of Plotly.\n",
    "\n",
    "## Methodology\n",
    "The analysis involved the following steps:\n",
    "1. **Data Exploration**: Understanding the structure and contents of the dataset.\n",
    "2. **Data Visualization**: Using Plotly to create various interactive visualizations that focus on different aspects of the data, such as time of day, day of the week, and month.\n",
    "3. **Interpretation of Findings**: Analyzing the visualizations to draw meaningful insights and conclusions about the patterns and trends in the car crash data.\n",
    "\n",
    "## Summary of Findings\n",
    "- **Injury Severity**: The majority of accidents in the dataset resulted in no injury, which is a reassuring finding regarding road safety in Monroe County.\n",
    "- **Worst Time for Accidents**: Analysis revealed that Mondays in 2003 witnessed the highest number of accidents (715 in total), making it the most accident-prone time in the dataset.\n",
    "- **Accident Trends Over Time**: Contrary to my initial hypothesis that accident rates would decrease over time due to advancements in technology, this trend was not consistently observed in the data.\n",
    "- **Time of Day Analysis**: The data indicated that the time frame from 12 PM to 8 PM, encompassing lunch hours and evening rush hours, was the most prone to accidents.\n",
    "\n",
    "The insights derived from this analysis provide valuable information that can be used for improving road safety measures and informing the public about high-risk times for driving."
   ]
  },
  {
   "cell_type": "code",
   "execution_count": 12,
   "metadata": {},
   "outputs": [
    {
     "name": "stdout",
     "output_type": "stream",
     "text": [
      "(53943, 11)\n"
     ]
    },
    {
     "data": {
      "text/html": [
       "<div>\n",
       "<style scoped>\n",
       "    .dataframe tbody tr th:only-of-type {\n",
       "        vertical-align: middle;\n",
       "    }\n",
       "\n",
       "    .dataframe tbody tr th {\n",
       "        vertical-align: top;\n",
       "    }\n",
       "\n",
       "    .dataframe thead th {\n",
       "        text-align: right;\n",
       "    }\n",
       "</style>\n",
       "<table border=\"1\" class=\"dataframe\">\n",
       "  <thead>\n",
       "    <tr style=\"text-align: right;\">\n",
       "      <th></th>\n",
       "      <th>Year</th>\n",
       "      <th>Month</th>\n",
       "      <th>Day</th>\n",
       "      <th>Weekend?</th>\n",
       "      <th>Hour</th>\n",
       "      <th>Collision Type</th>\n",
       "      <th>Injury Type</th>\n",
       "      <th>Primary Factor</th>\n",
       "      <th>Reported_Location</th>\n",
       "      <th>Latitude</th>\n",
       "      <th>Longitude</th>\n",
       "    </tr>\n",
       "  </thead>\n",
       "  <tbody>\n",
       "    <tr>\n",
       "      <th>0</th>\n",
       "      <td>2015</td>\n",
       "      <td>1</td>\n",
       "      <td>5</td>\n",
       "      <td>Weekday</td>\n",
       "      <td>0.0</td>\n",
       "      <td>2-Car</td>\n",
       "      <td>No injury/unknown</td>\n",
       "      <td>OTHER (DRIVER) - EXPLAIN IN NARRATIVE</td>\n",
       "      <td>1ST &amp; FESS</td>\n",
       "      <td>39.159207</td>\n",
       "      <td>-86.525874</td>\n",
       "    </tr>\n",
       "    <tr>\n",
       "      <th>1</th>\n",
       "      <td>2015</td>\n",
       "      <td>1</td>\n",
       "      <td>6</td>\n",
       "      <td>Weekday</td>\n",
       "      <td>1500.0</td>\n",
       "      <td>2-Car</td>\n",
       "      <td>No injury/unknown</td>\n",
       "      <td>FOLLOWING TOO CLOSELY</td>\n",
       "      <td>2ND &amp; COLLEGE</td>\n",
       "      <td>39.161440</td>\n",
       "      <td>-86.534848</td>\n",
       "    </tr>\n",
       "    <tr>\n",
       "      <th>2</th>\n",
       "      <td>2015</td>\n",
       "      <td>1</td>\n",
       "      <td>6</td>\n",
       "      <td>Weekend</td>\n",
       "      <td>2300.0</td>\n",
       "      <td>2-Car</td>\n",
       "      <td>Non-incapacitating</td>\n",
       "      <td>DISREGARD SIGNAL/REG SIGN</td>\n",
       "      <td>BASSWOOD &amp; BLOOMFIELD</td>\n",
       "      <td>39.149780</td>\n",
       "      <td>-86.568890</td>\n",
       "    </tr>\n",
       "    <tr>\n",
       "      <th>3</th>\n",
       "      <td>2015</td>\n",
       "      <td>1</td>\n",
       "      <td>7</td>\n",
       "      <td>Weekend</td>\n",
       "      <td>900.0</td>\n",
       "      <td>2-Car</td>\n",
       "      <td>Non-incapacitating</td>\n",
       "      <td>FAILURE TO YIELD RIGHT OF WAY</td>\n",
       "      <td>GATES &amp; JACOBS</td>\n",
       "      <td>39.165655</td>\n",
       "      <td>-86.575956</td>\n",
       "    </tr>\n",
       "    <tr>\n",
       "      <th>4</th>\n",
       "      <td>2015</td>\n",
       "      <td>1</td>\n",
       "      <td>7</td>\n",
       "      <td>Weekend</td>\n",
       "      <td>1100.0</td>\n",
       "      <td>2-Car</td>\n",
       "      <td>No injury/unknown</td>\n",
       "      <td>FAILURE TO YIELD RIGHT OF WAY</td>\n",
       "      <td>W 3RD</td>\n",
       "      <td>39.164848</td>\n",
       "      <td>-86.579625</td>\n",
       "    </tr>\n",
       "  </tbody>\n",
       "</table>\n",
       "</div>"
      ],
      "text/plain": [
       "   Year  Month  Day Weekend?    Hour Collision Type         Injury Type  \\\n",
       "0  2015      1    5  Weekday     0.0          2-Car   No injury/unknown   \n",
       "1  2015      1    6  Weekday  1500.0          2-Car   No injury/unknown   \n",
       "2  2015      1    6  Weekend  2300.0          2-Car  Non-incapacitating   \n",
       "3  2015      1    7  Weekend   900.0          2-Car  Non-incapacitating   \n",
       "4  2015      1    7  Weekend  1100.0          2-Car   No injury/unknown   \n",
       "\n",
       "                          Primary Factor      Reported_Location   Latitude  \\\n",
       "0  OTHER (DRIVER) - EXPLAIN IN NARRATIVE             1ST & FESS  39.159207   \n",
       "1                  FOLLOWING TOO CLOSELY          2ND & COLLEGE  39.161440   \n",
       "2              DISREGARD SIGNAL/REG SIGN  BASSWOOD & BLOOMFIELD  39.149780   \n",
       "3          FAILURE TO YIELD RIGHT OF WAY         GATES & JACOBS  39.165655   \n",
       "4          FAILURE TO YIELD RIGHT OF WAY                  W 3RD  39.164848   \n",
       "\n",
       "   Longitude  \n",
       "0 -86.525874  \n",
       "1 -86.534848  \n",
       "2 -86.568890  \n",
       "3 -86.575956  \n",
       "4 -86.579625  "
      ]
     },
     "metadata": {},
     "output_type": "display_data"
    }
   ],
   "source": [
    "#Imports\n",
    "import pandas as pd\n",
    "\n",
    "import plotly.express as px\n",
    "import plotly.offline as py\n",
    "import plotly.graph_objects as go\n",
    "from plotly.subplots import make_subplots\n",
    "\n",
    "import calendar\n",
    "from datetime import datetime\n",
    "\n",
    "import warnings\n",
    "\n",
    "warnings.filterwarnings('ignore')\n",
    "\n",
    "\n",
    "#Read in data and check shape\n",
    "df = pd.read_excel('new dataset.xlsx')\n",
    "print(df.shape)\n",
    "display(df.head())\n",
    "\n",
    "#pd.set_option('display.max_columns', None)\n",
    "#pd.set_option('display.max_rows', None)"
   ]
  },
  {
   "cell_type": "code",
   "execution_count": 2,
   "metadata": {},
   "outputs": [
    {
     "name": "stdout",
     "output_type": "stream",
     "text": [
      "Year                    0\n",
      "Month                   0\n",
      "Day                     0\n",
      "Weekend?                0\n",
      "Hour                    0\n",
      "Collision Type          6\n",
      "Injury Type             0\n",
      "Primary Factor       1085\n",
      "Reported_Location      28\n",
      "Latitude               30\n",
      "Longitude              30\n",
      "dtype: int64\n",
      "\n",
      "Year                   int64\n",
      "Month                  int64\n",
      "Day                    int64\n",
      "Weekend?              object\n",
      "Hour                 float64\n",
      "Collision Type        object\n",
      "Injury Type           object\n",
      "Primary Factor        object\n",
      "Reported_Location     object\n",
      "Latitude             float64\n",
      "Longitude            float64\n",
      "dtype: object\n",
      "\n",
      "               Year         Month           Day          Hour      Latitude  \\\n",
      "count  53654.000000  53654.000000  53654.000000  53654.000000  53624.000000   \n",
      "mean    2008.988705      6.665486      4.197394   1347.316137     35.585441   \n",
      "std        3.783493      3.512871      1.908706    531.631694     11.285154   \n",
      "min     2003.000000      1.000000      1.000000      0.000000      0.000000   \n",
      "25%     2006.000000      4.000000      3.000000   1000.000000     39.142048   \n",
      "50%     2009.000000      7.000000      4.000000   1400.000000     39.164432   \n",
      "75%     2012.000000     10.000000      6.000000   1700.000000     39.173344   \n",
      "max     2015.000000     12.000000      7.000000   2300.000000     41.228665   \n",
      "\n",
      "          Longitude  \n",
      "count  53624.000000  \n",
      "mean     -78.626616  \n",
      "std       24.947219  \n",
      "min      -88.959213  \n",
      "25%      -86.551604  \n",
      "50%      -86.530992  \n",
      "75%      -86.508288  \n",
      "max       86.596363  \n",
      "\n",
      "0\n"
     ]
    },
    {
     "data": {
      "text/html": [
       "<div>\n",
       "<style scoped>\n",
       "    .dataframe tbody tr th:only-of-type {\n",
       "        vertical-align: middle;\n",
       "    }\n",
       "\n",
       "    .dataframe tbody tr th {\n",
       "        vertical-align: top;\n",
       "    }\n",
       "\n",
       "    .dataframe thead th {\n",
       "        text-align: right;\n",
       "    }\n",
       "</style>\n",
       "<table border=\"1\" class=\"dataframe\">\n",
       "  <thead>\n",
       "    <tr style=\"text-align: right;\">\n",
       "      <th></th>\n",
       "      <th>Year</th>\n",
       "      <th>Month</th>\n",
       "      <th>Day</th>\n",
       "      <th>Weekend?</th>\n",
       "      <th>Hour</th>\n",
       "      <th>Collision Type</th>\n",
       "      <th>Injury Type</th>\n",
       "      <th>Primary Factor</th>\n",
       "      <th>Reported_Location</th>\n",
       "      <th>Latitude</th>\n",
       "      <th>Longitude</th>\n",
       "    </tr>\n",
       "  </thead>\n",
       "  <tbody>\n",
       "  </tbody>\n",
       "</table>\n",
       "</div>"
      ],
      "text/plain": [
       "Empty DataFrame\n",
       "Columns: [Year, Month, Day, Weekend?, Hour, Collision Type, Injury Type, Primary Factor, Reported_Location, Latitude, Longitude]\n",
       "Index: []"
      ]
     },
     "metadata": {},
     "output_type": "display_data"
    }
   ],
   "source": [
    "#Drop duplicates and null values\n",
    "df.drop_duplicates(inplace=True)\n",
    "df.dropna(subset=['Hour'], inplace=True)\n",
    "\n",
    "#Check for null values, data types, and duplicates\n",
    "print(df.isnull().sum())\n",
    "print()\n",
    "print(df.dtypes)\n",
    "print()\n",
    "print(df.describe())\n",
    "print()\n",
    "print(df.duplicated().sum())\n",
    "\n",
    "# Find and display duplicates\n",
    "duplicates = df[df.duplicated()]\n",
    "display(duplicates)"
   ]
  },
  {
   "cell_type": "markdown",
   "metadata": {},
   "source": [
    "# Plotly Insights and Tips: Accidents by Injury Type Over Time (Line Graph)\n",
    "\n",
    "In the course of this project, I've had the opportunity to dive deep into Plotly, a powerful and versatile plotting library. Here are some key takeaways and helpful tips from my experience, particularly from creating the 'Accidents by Injury Type Over Time' line plot:\n",
    "\n",
    "## Similarities to Matplotlib\n",
    "- **Familiar Ground for Matplotlib Users**: One of the first things I noticed is that Plotly operates quite similarly to Matplotlib in many respects. This made the transition smoother, as I could apply some of my existing knowledge about data visualization.\n",
    "\n",
    "## Customization and Styling\n",
    "- **Enhancing Visual Appeal**: A standout feature in Plotly is the ease with which you can switch themes and styles. For example, using `template='plotly_dark'` instantly gives the plot a sleek, modern look. And it's my personal favorite template. This flexibility allows for quick adjustments to the visual presentation, making data more engaging and accessible to different audiences.\n",
    "\n",
    "If you want to see all of the Plotly templates available, you can type: \n",
    "\n",
    "```python\n",
    "import plotly.io as pio\n",
    "pio.templates\n",
    "```"
   ]
  },
  {
   "cell_type": "code",
   "execution_count": 3,
   "metadata": {},
   "outputs": [
    {
     "data": {
      "application/vnd.plotly.v1+json": {
       "config": {
        "plotlyServerURL": "https://plot.ly"
       },
       "data": [
        {
         "hovertemplate": "Type of Injury=Fatal<br>Year=%{x}<br>Number of Accidents=%{y}<extra></extra>",
         "legendgroup": "Fatal",
         "line": {
          "color": "#636efa",
          "dash": "solid"
         },
         "marker": {
          "symbol": "circle"
         },
         "mode": "lines",
         "name": "Fatal",
         "orientation": "v",
         "showlegend": true,
         "type": "scatter",
         "x": [
          2003,
          2004,
          2005,
          2006,
          2007,
          2008,
          2009,
          2010,
          2011,
          2012,
          2013,
          2014,
          2015
         ],
         "xaxis": "x",
         "y": [
          10,
          12,
          9,
          12,
          3,
          11,
          7,
          13,
          9,
          9,
          4,
          8,
          8
         ],
         "yaxis": "y"
        },
        {
         "hovertemplate": "Type of Injury=Incapacitating<br>Year=%{x}<br>Number of Accidents=%{y}<extra></extra>",
         "legendgroup": "Incapacitating",
         "line": {
          "color": "#EF553B",
          "dash": "solid"
         },
         "marker": {
          "symbol": "circle"
         },
         "mode": "lines",
         "name": "Incapacitating",
         "orientation": "v",
         "showlegend": true,
         "type": "scatter",
         "x": [
          2003,
          2004,
          2005,
          2006,
          2007,
          2008,
          2009,
          2010,
          2011,
          2012,
          2013,
          2014,
          2015
         ],
         "xaxis": "x",
         "y": [
          33,
          34,
          32,
          53,
          52,
          39,
          44,
          61,
          62,
          90,
          79,
          117,
          391
         ],
         "yaxis": "y"
        },
        {
         "hovertemplate": "Type of Injury=No injury/unknown<br>Year=%{x}<br>Number of Accidents=%{y}<extra></extra>",
         "legendgroup": "No injury/unknown",
         "line": {
          "color": "#00cc96",
          "dash": "solid"
         },
         "marker": {
          "symbol": "circle"
         },
         "mode": "lines",
         "name": "No injury/unknown",
         "orientation": "v",
         "showlegend": true,
         "type": "scatter",
         "x": [
          2003,
          2004,
          2005,
          2006,
          2007,
          2008,
          2009,
          2010,
          2011,
          2012,
          2013,
          2014,
          2015
         ],
         "xaxis": "x",
         "y": [
          3537,
          2967,
          2804,
          2858,
          3103,
          3448,
          3124,
          3120,
          3065,
          3267,
          3268,
          3327,
          3451
         ],
         "yaxis": "y"
        },
        {
         "hovertemplate": "Type of Injury=Non-incapacitating<br>Year=%{x}<br>Number of Accidents=%{y}<extra></extra>",
         "legendgroup": "Non-incapacitating",
         "line": {
          "color": "#ab63fa",
          "dash": "solid"
         },
         "marker": {
          "symbol": "circle"
         },
         "mode": "lines",
         "name": "Non-incapacitating",
         "orientation": "v",
         "showlegend": true,
         "type": "scatter",
         "x": [
          2003,
          2004,
          2005,
          2006,
          2007,
          2008,
          2009,
          2010,
          2011,
          2012,
          2013,
          2014,
          2015
         ],
         "xaxis": "x",
         "y": [
          948,
          1189,
          1067,
          993,
          889,
          836,
          834,
          864,
          769,
          853,
          706,
          707,
          458
         ],
         "yaxis": "y"
        }
       ],
       "layout": {
        "height": 1000,
        "legend": {
         "title": {
          "text": "Type of Injury"
         },
         "tracegroupgap": 0
        },
        "template": {
         "data": {
          "bar": [
           {
            "error_x": {
             "color": "#f2f5fa"
            },
            "error_y": {
             "color": "#f2f5fa"
            },
            "marker": {
             "line": {
              "color": "rgb(17,17,17)",
              "width": 0.5
             },
             "pattern": {
              "fillmode": "overlay",
              "size": 10,
              "solidity": 0.2
             }
            },
            "type": "bar"
           }
          ],
          "barpolar": [
           {
            "marker": {
             "line": {
              "color": "rgb(17,17,17)",
              "width": 0.5
             },
             "pattern": {
              "fillmode": "overlay",
              "size": 10,
              "solidity": 0.2
             }
            },
            "type": "barpolar"
           }
          ],
          "carpet": [
           {
            "aaxis": {
             "endlinecolor": "#A2B1C6",
             "gridcolor": "#506784",
             "linecolor": "#506784",
             "minorgridcolor": "#506784",
             "startlinecolor": "#A2B1C6"
            },
            "baxis": {
             "endlinecolor": "#A2B1C6",
             "gridcolor": "#506784",
             "linecolor": "#506784",
             "minorgridcolor": "#506784",
             "startlinecolor": "#A2B1C6"
            },
            "type": "carpet"
           }
          ],
          "choropleth": [
           {
            "colorbar": {
             "outlinewidth": 0,
             "ticks": ""
            },
            "type": "choropleth"
           }
          ],
          "contour": [
           {
            "colorbar": {
             "outlinewidth": 0,
             "ticks": ""
            },
            "colorscale": [
             [
              0,
              "#0d0887"
             ],
             [
              0.1111111111111111,
              "#46039f"
             ],
             [
              0.2222222222222222,
              "#7201a8"
             ],
             [
              0.3333333333333333,
              "#9c179e"
             ],
             [
              0.4444444444444444,
              "#bd3786"
             ],
             [
              0.5555555555555556,
              "#d8576b"
             ],
             [
              0.6666666666666666,
              "#ed7953"
             ],
             [
              0.7777777777777778,
              "#fb9f3a"
             ],
             [
              0.8888888888888888,
              "#fdca26"
             ],
             [
              1,
              "#f0f921"
             ]
            ],
            "type": "contour"
           }
          ],
          "contourcarpet": [
           {
            "colorbar": {
             "outlinewidth": 0,
             "ticks": ""
            },
            "type": "contourcarpet"
           }
          ],
          "heatmap": [
           {
            "colorbar": {
             "outlinewidth": 0,
             "ticks": ""
            },
            "colorscale": [
             [
              0,
              "#0d0887"
             ],
             [
              0.1111111111111111,
              "#46039f"
             ],
             [
              0.2222222222222222,
              "#7201a8"
             ],
             [
              0.3333333333333333,
              "#9c179e"
             ],
             [
              0.4444444444444444,
              "#bd3786"
             ],
             [
              0.5555555555555556,
              "#d8576b"
             ],
             [
              0.6666666666666666,
              "#ed7953"
             ],
             [
              0.7777777777777778,
              "#fb9f3a"
             ],
             [
              0.8888888888888888,
              "#fdca26"
             ],
             [
              1,
              "#f0f921"
             ]
            ],
            "type": "heatmap"
           }
          ],
          "heatmapgl": [
           {
            "colorbar": {
             "outlinewidth": 0,
             "ticks": ""
            },
            "colorscale": [
             [
              0,
              "#0d0887"
             ],
             [
              0.1111111111111111,
              "#46039f"
             ],
             [
              0.2222222222222222,
              "#7201a8"
             ],
             [
              0.3333333333333333,
              "#9c179e"
             ],
             [
              0.4444444444444444,
              "#bd3786"
             ],
             [
              0.5555555555555556,
              "#d8576b"
             ],
             [
              0.6666666666666666,
              "#ed7953"
             ],
             [
              0.7777777777777778,
              "#fb9f3a"
             ],
             [
              0.8888888888888888,
              "#fdca26"
             ],
             [
              1,
              "#f0f921"
             ]
            ],
            "type": "heatmapgl"
           }
          ],
          "histogram": [
           {
            "marker": {
             "pattern": {
              "fillmode": "overlay",
              "size": 10,
              "solidity": 0.2
             }
            },
            "type": "histogram"
           }
          ],
          "histogram2d": [
           {
            "colorbar": {
             "outlinewidth": 0,
             "ticks": ""
            },
            "colorscale": [
             [
              0,
              "#0d0887"
             ],
             [
              0.1111111111111111,
              "#46039f"
             ],
             [
              0.2222222222222222,
              "#7201a8"
             ],
             [
              0.3333333333333333,
              "#9c179e"
             ],
             [
              0.4444444444444444,
              "#bd3786"
             ],
             [
              0.5555555555555556,
              "#d8576b"
             ],
             [
              0.6666666666666666,
              "#ed7953"
             ],
             [
              0.7777777777777778,
              "#fb9f3a"
             ],
             [
              0.8888888888888888,
              "#fdca26"
             ],
             [
              1,
              "#f0f921"
             ]
            ],
            "type": "histogram2d"
           }
          ],
          "histogram2dcontour": [
           {
            "colorbar": {
             "outlinewidth": 0,
             "ticks": ""
            },
            "colorscale": [
             [
              0,
              "#0d0887"
             ],
             [
              0.1111111111111111,
              "#46039f"
             ],
             [
              0.2222222222222222,
              "#7201a8"
             ],
             [
              0.3333333333333333,
              "#9c179e"
             ],
             [
              0.4444444444444444,
              "#bd3786"
             ],
             [
              0.5555555555555556,
              "#d8576b"
             ],
             [
              0.6666666666666666,
              "#ed7953"
             ],
             [
              0.7777777777777778,
              "#fb9f3a"
             ],
             [
              0.8888888888888888,
              "#fdca26"
             ],
             [
              1,
              "#f0f921"
             ]
            ],
            "type": "histogram2dcontour"
           }
          ],
          "mesh3d": [
           {
            "colorbar": {
             "outlinewidth": 0,
             "ticks": ""
            },
            "type": "mesh3d"
           }
          ],
          "parcoords": [
           {
            "line": {
             "colorbar": {
              "outlinewidth": 0,
              "ticks": ""
             }
            },
            "type": "parcoords"
           }
          ],
          "pie": [
           {
            "automargin": true,
            "type": "pie"
           }
          ],
          "scatter": [
           {
            "marker": {
             "line": {
              "color": "#283442"
             }
            },
            "type": "scatter"
           }
          ],
          "scatter3d": [
           {
            "line": {
             "colorbar": {
              "outlinewidth": 0,
              "ticks": ""
             }
            },
            "marker": {
             "colorbar": {
              "outlinewidth": 0,
              "ticks": ""
             }
            },
            "type": "scatter3d"
           }
          ],
          "scattercarpet": [
           {
            "marker": {
             "colorbar": {
              "outlinewidth": 0,
              "ticks": ""
             }
            },
            "type": "scattercarpet"
           }
          ],
          "scattergeo": [
           {
            "marker": {
             "colorbar": {
              "outlinewidth": 0,
              "ticks": ""
             }
            },
            "type": "scattergeo"
           }
          ],
          "scattergl": [
           {
            "marker": {
             "line": {
              "color": "#283442"
             }
            },
            "type": "scattergl"
           }
          ],
          "scattermapbox": [
           {
            "marker": {
             "colorbar": {
              "outlinewidth": 0,
              "ticks": ""
             }
            },
            "type": "scattermapbox"
           }
          ],
          "scatterpolar": [
           {
            "marker": {
             "colorbar": {
              "outlinewidth": 0,
              "ticks": ""
             }
            },
            "type": "scatterpolar"
           }
          ],
          "scatterpolargl": [
           {
            "marker": {
             "colorbar": {
              "outlinewidth": 0,
              "ticks": ""
             }
            },
            "type": "scatterpolargl"
           }
          ],
          "scatterternary": [
           {
            "marker": {
             "colorbar": {
              "outlinewidth": 0,
              "ticks": ""
             }
            },
            "type": "scatterternary"
           }
          ],
          "surface": [
           {
            "colorbar": {
             "outlinewidth": 0,
             "ticks": ""
            },
            "colorscale": [
             [
              0,
              "#0d0887"
             ],
             [
              0.1111111111111111,
              "#46039f"
             ],
             [
              0.2222222222222222,
              "#7201a8"
             ],
             [
              0.3333333333333333,
              "#9c179e"
             ],
             [
              0.4444444444444444,
              "#bd3786"
             ],
             [
              0.5555555555555556,
              "#d8576b"
             ],
             [
              0.6666666666666666,
              "#ed7953"
             ],
             [
              0.7777777777777778,
              "#fb9f3a"
             ],
             [
              0.8888888888888888,
              "#fdca26"
             ],
             [
              1,
              "#f0f921"
             ]
            ],
            "type": "surface"
           }
          ],
          "table": [
           {
            "cells": {
             "fill": {
              "color": "#506784"
             },
             "line": {
              "color": "rgb(17,17,17)"
             }
            },
            "header": {
             "fill": {
              "color": "#2a3f5f"
             },
             "line": {
              "color": "rgb(17,17,17)"
             }
            },
            "type": "table"
           }
          ]
         },
         "layout": {
          "annotationdefaults": {
           "arrowcolor": "#f2f5fa",
           "arrowhead": 0,
           "arrowwidth": 1
          },
          "autotypenumbers": "strict",
          "coloraxis": {
           "colorbar": {
            "outlinewidth": 0,
            "ticks": ""
           }
          },
          "colorscale": {
           "diverging": [
            [
             0,
             "#8e0152"
            ],
            [
             0.1,
             "#c51b7d"
            ],
            [
             0.2,
             "#de77ae"
            ],
            [
             0.3,
             "#f1b6da"
            ],
            [
             0.4,
             "#fde0ef"
            ],
            [
             0.5,
             "#f7f7f7"
            ],
            [
             0.6,
             "#e6f5d0"
            ],
            [
             0.7,
             "#b8e186"
            ],
            [
             0.8,
             "#7fbc41"
            ],
            [
             0.9,
             "#4d9221"
            ],
            [
             1,
             "#276419"
            ]
           ],
           "sequential": [
            [
             0,
             "#0d0887"
            ],
            [
             0.1111111111111111,
             "#46039f"
            ],
            [
             0.2222222222222222,
             "#7201a8"
            ],
            [
             0.3333333333333333,
             "#9c179e"
            ],
            [
             0.4444444444444444,
             "#bd3786"
            ],
            [
             0.5555555555555556,
             "#d8576b"
            ],
            [
             0.6666666666666666,
             "#ed7953"
            ],
            [
             0.7777777777777778,
             "#fb9f3a"
            ],
            [
             0.8888888888888888,
             "#fdca26"
            ],
            [
             1,
             "#f0f921"
            ]
           ],
           "sequentialminus": [
            [
             0,
             "#0d0887"
            ],
            [
             0.1111111111111111,
             "#46039f"
            ],
            [
             0.2222222222222222,
             "#7201a8"
            ],
            [
             0.3333333333333333,
             "#9c179e"
            ],
            [
             0.4444444444444444,
             "#bd3786"
            ],
            [
             0.5555555555555556,
             "#d8576b"
            ],
            [
             0.6666666666666666,
             "#ed7953"
            ],
            [
             0.7777777777777778,
             "#fb9f3a"
            ],
            [
             0.8888888888888888,
             "#fdca26"
            ],
            [
             1,
             "#f0f921"
            ]
           ]
          },
          "colorway": [
           "#636efa",
           "#EF553B",
           "#00cc96",
           "#ab63fa",
           "#FFA15A",
           "#19d3f3",
           "#FF6692",
           "#B6E880",
           "#FF97FF",
           "#FECB52"
          ],
          "font": {
           "color": "#f2f5fa"
          },
          "geo": {
           "bgcolor": "rgb(17,17,17)",
           "lakecolor": "rgb(17,17,17)",
           "landcolor": "rgb(17,17,17)",
           "showlakes": true,
           "showland": true,
           "subunitcolor": "#506784"
          },
          "hoverlabel": {
           "align": "left"
          },
          "hovermode": "closest",
          "mapbox": {
           "style": "dark"
          },
          "paper_bgcolor": "rgb(17,17,17)",
          "plot_bgcolor": "rgb(17,17,17)",
          "polar": {
           "angularaxis": {
            "gridcolor": "#506784",
            "linecolor": "#506784",
            "ticks": ""
           },
           "bgcolor": "rgb(17,17,17)",
           "radialaxis": {
            "gridcolor": "#506784",
            "linecolor": "#506784",
            "ticks": ""
           }
          },
          "scene": {
           "xaxis": {
            "backgroundcolor": "rgb(17,17,17)",
            "gridcolor": "#506784",
            "gridwidth": 2,
            "linecolor": "#506784",
            "showbackground": true,
            "ticks": "",
            "zerolinecolor": "#C8D4E3"
           },
           "yaxis": {
            "backgroundcolor": "rgb(17,17,17)",
            "gridcolor": "#506784",
            "gridwidth": 2,
            "linecolor": "#506784",
            "showbackground": true,
            "ticks": "",
            "zerolinecolor": "#C8D4E3"
           },
           "zaxis": {
            "backgroundcolor": "rgb(17,17,17)",
            "gridcolor": "#506784",
            "gridwidth": 2,
            "linecolor": "#506784",
            "showbackground": true,
            "ticks": "",
            "zerolinecolor": "#C8D4E3"
           }
          },
          "shapedefaults": {
           "line": {
            "color": "#f2f5fa"
           }
          },
          "sliderdefaults": {
           "bgcolor": "#C8D4E3",
           "bordercolor": "rgb(17,17,17)",
           "borderwidth": 1,
           "tickwidth": 0
          },
          "ternary": {
           "aaxis": {
            "gridcolor": "#506784",
            "linecolor": "#506784",
            "ticks": ""
           },
           "baxis": {
            "gridcolor": "#506784",
            "linecolor": "#506784",
            "ticks": ""
           },
           "bgcolor": "rgb(17,17,17)",
           "caxis": {
            "gridcolor": "#506784",
            "linecolor": "#506784",
            "ticks": ""
           }
          },
          "title": {
           "x": 0.05
          },
          "updatemenudefaults": {
           "bgcolor": "#506784",
           "borderwidth": 0
          },
          "xaxis": {
           "automargin": true,
           "gridcolor": "#283442",
           "linecolor": "#506784",
           "ticks": "",
           "title": {
            "standoff": 15
           },
           "zerolinecolor": "#283442",
           "zerolinewidth": 2
          },
          "yaxis": {
           "automargin": true,
           "gridcolor": "#283442",
           "linecolor": "#506784",
           "ticks": "",
           "title": {
            "standoff": 15
           },
           "zerolinecolor": "#283442",
           "zerolinewidth": 2
          }
         }
        },
        "title": {
         "text": "Accidents by Injury Type Over Time"
        },
        "xaxis": {
         "anchor": "y",
         "domain": [
          0,
          1
         ],
         "title": {
          "text": "Year"
         }
        },
        "yaxis": {
         "anchor": "x",
         "domain": [
          0,
          1
         ],
         "title": {
          "text": "Number of Accidents"
         }
        }
       }
      }
     },
     "metadata": {},
     "output_type": "display_data"
    }
   ],
   "source": [
    "# Group by year and injury type, then count the number of accidents\n",
    "injury_data = df.groupby(['Year', 'Injury Type']).size().reset_index(name='Accidents')\n",
    "\n",
    "# Create a Plotly line plot\n",
    "fig = px.line(injury_data, x='Year', y='Accidents', color='Injury Type',\n",
    "              title='Accidents by Injury Type Over Time',\n",
    "              labels={'Year': 'Year', 'Accidents': 'Number of Accidents', 'Injury Type': 'Type of Injury'})\n",
    "\n",
    "# Customize the layout\n",
    "fig.update_layout(xaxis_title='Year', yaxis_title='Number of Accidents', height=1000, template='plotly_dark')\n",
    "\n",
    "# Show the plot\n",
    "fig.show()\n",
    "\n",
    "#Save the plot to html file\n",
    "#py.plot(fig, filename='injury_type_plot.html')"
   ]
  },
  {
   "cell_type": "markdown",
   "metadata": {},
   "source": [
    "# Advanced Plotly Features: Number of Accidents by Day of the Week & Month (Bar Charts)\n",
    "\n",
    "In creating the 'Number of Accidents by Day of the Week' and 'Number of Accidents by Month' visualizations, I delved into some of Plotly's more advanced features. These features not only enhanced the aesthetic appeal of the plots but also improved their functionality and user interactivity. Here are some key takeaways:\n",
    "\n",
    "## Custom Tooltips from DataFrame Columns\n",
    "- **Dynamic Tooltip Content**: Plotly allows for the creation of a custom tooltip column in the DataFrame, which can then be seamlessly integrated into the plot. This feature offers a convenient way to control and customize the information displayed in tooltips. While it's not always necessary (as seen in my polar subplots for time of day), it's a handy option for more controlled scenarios.\n",
    "\n",
    "## Layout Customization\n",
    "- **Extensive Control over Layout**: The level of customization available for the layout in Plotly is impressive. Everything about the plot’s title, including font, positioning, size, and color, can be adjusted. This flexibility is crucial for tailoring the visualization to specific presentation or reporting needs.\n",
    "\n",
    "## Sizing Adjustments\n",
    "- **Dimension Control**: Unlike Matplotlib, where you might adjust the `figsize`, Plotly’s sizing is controlled in the `update_layout` section. This approach provides a unified way to manage the dimensions and layout of the plot.\n",
    "\n",
    "## Tooltip Customization\n",
    "- **Enhanced Tooltip Functionality**: By adjusting the `hovertemplate` variable, a wide range of modifications can be made to the tooltips. This feature is particularly useful for enriching the interactive experience of the plot, providing users with detailed and context-specific information on hover.\n",
    "\n",
    "## Diverse Themes and Templates\n",
    "- **Aesthetic Variety**: Plotly includes a variety of themes and templates, including a Seaborn-like theme. These pre-set styles can quickly give plots a professional and polished look, akin to popular visualization libraries.\n",
    "\n",
    "In conclusion, these advanced capabilities of Plotly have not only augmented my data visualization toolkit but also opened up new avenues for creatively displaying data insights."
   ]
  },
  {
   "cell_type": "code",
   "execution_count": 4,
   "metadata": {},
   "outputs": [
    {
     "data": {
      "text/html": [
       "<div>\n",
       "<style scoped>\n",
       "    .dataframe tbody tr th:only-of-type {\n",
       "        vertical-align: middle;\n",
       "    }\n",
       "\n",
       "    .dataframe tbody tr th {\n",
       "        vertical-align: top;\n",
       "    }\n",
       "\n",
       "    .dataframe thead th {\n",
       "        text-align: right;\n",
       "    }\n",
       "</style>\n",
       "<table border=\"1\" class=\"dataframe\">\n",
       "  <thead>\n",
       "    <tr style=\"text-align: right;\">\n",
       "      <th></th>\n",
       "      <th>Year</th>\n",
       "      <th>Month</th>\n",
       "      <th>Day</th>\n",
       "      <th>DayOfWeek</th>\n",
       "    </tr>\n",
       "  </thead>\n",
       "  <tbody>\n",
       "    <tr>\n",
       "      <th>0</th>\n",
       "      <td>2015</td>\n",
       "      <td>1</td>\n",
       "      <td>5</td>\n",
       "      <td>Monday</td>\n",
       "    </tr>\n",
       "    <tr>\n",
       "      <th>1</th>\n",
       "      <td>2015</td>\n",
       "      <td>1</td>\n",
       "      <td>6</td>\n",
       "      <td>Tuesday</td>\n",
       "    </tr>\n",
       "    <tr>\n",
       "      <th>2</th>\n",
       "      <td>2015</td>\n",
       "      <td>1</td>\n",
       "      <td>6</td>\n",
       "      <td>Tuesday</td>\n",
       "    </tr>\n",
       "    <tr>\n",
       "      <th>3</th>\n",
       "      <td>2015</td>\n",
       "      <td>1</td>\n",
       "      <td>7</td>\n",
       "      <td>Wednesday</td>\n",
       "    </tr>\n",
       "    <tr>\n",
       "      <th>4</th>\n",
       "      <td>2015</td>\n",
       "      <td>1</td>\n",
       "      <td>7</td>\n",
       "      <td>Wednesday</td>\n",
       "    </tr>\n",
       "  </tbody>\n",
       "</table>\n",
       "</div>"
      ],
      "text/plain": [
       "   Year  Month  Day  DayOfWeek\n",
       "0  2015      1    5     Monday\n",
       "1  2015      1    6    Tuesday\n",
       "2  2015      1    6    Tuesday\n",
       "3  2015      1    7  Wednesday\n",
       "4  2015      1    7  Wednesday"
      ]
     },
     "execution_count": 4,
     "metadata": {},
     "output_type": "execute_result"
    }
   ],
   "source": [
    "# Function to get the day of the week given the year, month, and day\n",
    "def get_day_of_week(row):\n",
    "    return calendar.day_name[datetime(row['Year'], row['Month'], row['Day']).weekday()]\n",
    "\n",
    "# Apply the function to the dataframe\n",
    "df['DayOfWeek'] = df.apply(get_day_of_week, axis=1)\n",
    "\n",
    "# Check if the new column is added correctly\n",
    "df[['Year', 'Month', 'Day', 'DayOfWeek']].head()"
   ]
  },
  {
   "cell_type": "code",
   "execution_count": 5,
   "metadata": {},
   "outputs": [
    {
     "data": {
      "text/html": [
       "<div>\n",
       "<style scoped>\n",
       "    .dataframe tbody tr th:only-of-type {\n",
       "        vertical-align: middle;\n",
       "    }\n",
       "\n",
       "    .dataframe tbody tr th {\n",
       "        vertical-align: top;\n",
       "    }\n",
       "\n",
       "    .dataframe thead th {\n",
       "        text-align: right;\n",
       "    }\n",
       "</style>\n",
       "<table border=\"1\" class=\"dataframe\">\n",
       "  <thead>\n",
       "    <tr style=\"text-align: right;\">\n",
       "      <th>DayOfWeek</th>\n",
       "      <th>Monday</th>\n",
       "      <th>Tuesday</th>\n",
       "      <th>Wednesday</th>\n",
       "      <th>Thursday</th>\n",
       "      <th>Friday</th>\n",
       "      <th>Saturday</th>\n",
       "      <th>Sunday</th>\n",
       "    </tr>\n",
       "    <tr>\n",
       "      <th>Year</th>\n",
       "      <th></th>\n",
       "      <th></th>\n",
       "      <th></th>\n",
       "      <th></th>\n",
       "      <th></th>\n",
       "      <th></th>\n",
       "      <th></th>\n",
       "    </tr>\n",
       "  </thead>\n",
       "  <tbody>\n",
       "    <tr>\n",
       "      <th>2003</th>\n",
       "      <td>715</td>\n",
       "      <td>607</td>\n",
       "      <td>677</td>\n",
       "      <td>613</td>\n",
       "      <td>679</td>\n",
       "      <td>575</td>\n",
       "      <td>662</td>\n",
       "    </tr>\n",
       "    <tr>\n",
       "      <th>2004</th>\n",
       "      <td>629</td>\n",
       "      <td>656</td>\n",
       "      <td>613</td>\n",
       "      <td>551</td>\n",
       "      <td>599</td>\n",
       "      <td>626</td>\n",
       "      <td>528</td>\n",
       "    </tr>\n",
       "    <tr>\n",
       "      <th>2005</th>\n",
       "      <td>498</td>\n",
       "      <td>535</td>\n",
       "      <td>566</td>\n",
       "      <td>600</td>\n",
       "      <td>583</td>\n",
       "      <td>567</td>\n",
       "      <td>563</td>\n",
       "    </tr>\n",
       "    <tr>\n",
       "      <th>2006</th>\n",
       "      <td>539</td>\n",
       "      <td>557</td>\n",
       "      <td>572</td>\n",
       "      <td>569</td>\n",
       "      <td>576</td>\n",
       "      <td>552</td>\n",
       "      <td>551</td>\n",
       "    </tr>\n",
       "    <tr>\n",
       "      <th>2007</th>\n",
       "      <td>607</td>\n",
       "      <td>617</td>\n",
       "      <td>551</td>\n",
       "      <td>550</td>\n",
       "      <td>612</td>\n",
       "      <td>577</td>\n",
       "      <td>533</td>\n",
       "    </tr>\n",
       "  </tbody>\n",
       "</table>\n",
       "</div>"
      ],
      "text/plain": [
       "DayOfWeek  Monday  Tuesday  Wednesday  Thursday  Friday  Saturday  Sunday\n",
       "Year                                                                     \n",
       "2003          715      607        677       613     679       575     662\n",
       "2004          629      656        613       551     599       626     528\n",
       "2005          498      535        566       600     583       567     563\n",
       "2006          539      557        572       569     576       552     551\n",
       "2007          607      617        551       550     612       577     533"
      ]
     },
     "execution_count": 5,
     "metadata": {},
     "output_type": "execute_result"
    }
   ],
   "source": [
    "# Aggregate the data to get the count of accidents for each day of the week across each year\n",
    "accidents_by_day_week = df.groupby(['Year', 'DayOfWeek']).size().unstack(fill_value=0)\n",
    "\n",
    "# Reorder the columns to have the days in the correct order\n",
    "ordered_days = [\"Monday\", \"Tuesday\", \"Wednesday\", \"Thursday\", \"Friday\", \"Saturday\", \"Sunday\"]\n",
    "accidents_by_day_week = accidents_by_day_week[ordered_days]\n",
    "\n",
    "# Display the aggregated data\n",
    "accidents_by_day_week.head()"
   ]
  },
  {
   "cell_type": "code",
   "execution_count": 6,
   "metadata": {},
   "outputs": [
    {
     "data": {
      "text/html": [
       "<div>\n",
       "<style scoped>\n",
       "    .dataframe tbody tr th:only-of-type {\n",
       "        vertical-align: middle;\n",
       "    }\n",
       "\n",
       "    .dataframe tbody tr th {\n",
       "        vertical-align: top;\n",
       "    }\n",
       "\n",
       "    .dataframe thead th {\n",
       "        text-align: right;\n",
       "    }\n",
       "</style>\n",
       "<table border=\"1\" class=\"dataframe\">\n",
       "  <thead>\n",
       "    <tr style=\"text-align: right;\">\n",
       "      <th></th>\n",
       "      <th>Year</th>\n",
       "      <th>DayOfWeek</th>\n",
       "      <th>Accidents</th>\n",
       "      <th>Rank</th>\n",
       "      <th>Tooltip</th>\n",
       "    </tr>\n",
       "  </thead>\n",
       "  <tbody>\n",
       "    <tr>\n",
       "      <th>0</th>\n",
       "      <td>2003</td>\n",
       "      <td>Monday</td>\n",
       "      <td>715</td>\n",
       "      <td>1</td>\n",
       "      <td>Mondays in 2003 were the #1 worst day for acci...</td>\n",
       "    </tr>\n",
       "    <tr>\n",
       "      <th>1</th>\n",
       "      <td>2004</td>\n",
       "      <td>Monday</td>\n",
       "      <td>629</td>\n",
       "      <td>16</td>\n",
       "      <td>Mondays in 2004 were the #16 worst day for acc...</td>\n",
       "    </tr>\n",
       "    <tr>\n",
       "      <th>2</th>\n",
       "      <td>2005</td>\n",
       "      <td>Monday</td>\n",
       "      <td>498</td>\n",
       "      <td>90</td>\n",
       "      <td>Mondays in 2005 were the #90 worst day for acc...</td>\n",
       "    </tr>\n",
       "    <tr>\n",
       "      <th>3</th>\n",
       "      <td>2006</td>\n",
       "      <td>Monday</td>\n",
       "      <td>539</td>\n",
       "      <td>82</td>\n",
       "      <td>Mondays in 2006 were the #82 worst day for acc...</td>\n",
       "    </tr>\n",
       "    <tr>\n",
       "      <th>4</th>\n",
       "      <td>2007</td>\n",
       "      <td>Monday</td>\n",
       "      <td>607</td>\n",
       "      <td>35</td>\n",
       "      <td>Mondays in 2007 were the #35 worst day for acc...</td>\n",
       "    </tr>\n",
       "  </tbody>\n",
       "</table>\n",
       "</div>"
      ],
      "text/plain": [
       "   Year DayOfWeek  Accidents  Rank  \\\n",
       "0  2003    Monday        715     1   \n",
       "1  2004    Monday        629    16   \n",
       "2  2005    Monday        498    90   \n",
       "3  2006    Monday        539    82   \n",
       "4  2007    Monday        607    35   \n",
       "\n",
       "                                             Tooltip  \n",
       "0  Mondays in 2003 were the #1 worst day for acci...  \n",
       "1  Mondays in 2004 were the #16 worst day for acc...  \n",
       "2  Mondays in 2005 were the #90 worst day for acc...  \n",
       "3  Mondays in 2006 were the #82 worst day for acc...  \n",
       "4  Mondays in 2007 were the #35 worst day for acc...  "
      ]
     },
     "execution_count": 6,
     "metadata": {},
     "output_type": "execute_result"
    }
   ],
   "source": [
    "# Convert the accidents_by_day_week dataframe to a long format for Plotly\n",
    "accidents_long_df = accidents_by_day_week.reset_index().melt(id_vars='Year', var_name='DayOfWeek', value_name='Accidents')\n",
    "\n",
    "# Let's create a new 'Rank' column in the long format dataframe that ranks each row based on 'Accidents' (1 being the highest number of accidents) \n",
    "accidents_long_df['Rank'] = accidents_long_df['Accidents'].rank(method='min', ascending=False).astype(int)\n",
    "\n",
    "# Create custom tooltip text that includes the ranking information\n",
    "accidents_long_df['Tooltip'] = accidents_long_df.apply(\n",
    "    lambda row: f\"{row['DayOfWeek']}s in {row['Year']} were the #{int(row['Rank'])} worst day for accidents\", axis=1)\n",
    "\n",
    "accidents_long_df.head()"
   ]
  },
  {
   "cell_type": "code",
   "execution_count": 7,
   "metadata": {},
   "outputs": [
    {
     "data": {
      "application/vnd.plotly.v1+json": {
       "config": {
        "plotlyServerURL": "https://plot.ly"
       },
       "data": [
        {
         "hoverinfo": "text",
         "hovertemplate": "<b>Day of the week</b>: Monday<br><b>Year</b>: %{x}<br><b>Accidents</b>: %{y}<br><br>%{hovertext}<extra></extra>",
         "hovertext": [
          "Mondays in 2003 were the #1 worst day for accidents",
          "Mondays in 2004 were the #16 worst day for accidents",
          "Mondays in 2005 were the #90 worst day for accidents",
          "Mondays in 2006 were the #82 worst day for accidents",
          "Mondays in 2007 were the #35 worst day for accidents",
          "Mondays in 2008 were the #13 worst day for accidents",
          "Mondays in 2009 were the #56 worst day for accidents",
          "Mondays in 2010 were the #81 worst day for accidents",
          "Mondays in 2011 were the #91 worst day for accidents",
          "Mondays in 2012 were the #12 worst day for accidents",
          "Mondays in 2013 were the #46 worst day for accidents",
          "Mondays in 2014 were the #24 worst day for accidents",
          "Mondays in 2015 were the #17 worst day for accidents"
         ],
         "name": "Monday",
         "text": [
          715,
          629,
          498,
          539,
          607,
          637,
          567,
          540,
          488,
          641,
          585,
          616,
          627
         ],
         "type": "bar",
         "x": [
          2003,
          2004,
          2005,
          2006,
          2007,
          2008,
          2009,
          2010,
          2011,
          2012,
          2013,
          2014,
          2015
         ],
         "y": [
          715,
          629,
          498,
          539,
          607,
          637,
          567,
          540,
          488,
          641,
          585,
          616,
          627
         ]
        },
        {
         "hoverinfo": "text",
         "hovertemplate": "<b>Day of the week</b>: Tuesday<br><b>Year</b>: %{x}<br><b>Accidents</b>: %{y}<br><br>%{hovertext}<extra></extra>",
         "hovertext": [
          "Tuesdays in 2003 were the #35 worst day for accidents",
          "Tuesdays in 2004 were the #7 worst day for accidents",
          "Tuesdays in 2005 were the #85 worst day for accidents",
          "Tuesdays in 2006 were the #68 worst day for accidents",
          "Tuesdays in 2007 were the #22 worst day for accidents",
          "Tuesdays in 2008 were the #60 worst day for accidents",
          "Tuesdays in 2009 were the #8 worst day for accidents",
          "Tuesdays in 2010 were the #15 worst day for accidents",
          "Tuesdays in 2011 were the #88 worst day for accidents",
          "Tuesdays in 2012 were the #37 worst day for accidents",
          "Tuesdays in 2013 were the #70 worst day for accidents",
          "Tuesdays in 2014 were the #67 worst day for accidents",
          "Tuesdays in 2015 were the #25 worst day for accidents"
         ],
         "name": "Tuesday",
         "text": [
          607,
          656,
          535,
          557,
          617,
          566,
          655,
          631,
          526,
          606,
          556,
          558,
          614
         ],
         "type": "bar",
         "x": [
          2003,
          2004,
          2005,
          2006,
          2007,
          2008,
          2009,
          2010,
          2011,
          2012,
          2013,
          2014,
          2015
         ],
         "y": [
          607,
          656,
          535,
          557,
          617,
          566,
          655,
          631,
          526,
          606,
          556,
          558,
          614
         ]
        },
        {
         "hoverinfo": "text",
         "hovertemplate": "<b>Day of the week</b>: Wednesday<br><b>Year</b>: %{x}<br><b>Accidents</b>: %{y}<br><br>%{hovertext}<extra></extra>",
         "hovertext": [
          "Wednesdays in 2003 were the #4 worst day for accidents",
          "Wednesdays in 2004 were the #26 worst day for accidents",
          "Wednesdays in 2005 were the #60 worst day for accidents",
          "Wednesdays in 2006 were the #51 worst day for accidents",
          "Wednesdays in 2007 were the #74 worst day for accidents",
          "Wednesdays in 2008 were the #2 worst day for accidents",
          "Wednesdays in 2009 were the #83 worst day for accidents",
          "Wednesdays in 2010 were the #43 worst day for accidents",
          "Wednesdays in 2011 were the #9 worst day for accidents",
          "Wednesdays in 2012 were the #62 worst day for accidents",
          "Wednesdays in 2013 were the #45 worst day for accidents",
          "Wednesdays in 2014 were the #66 worst day for accidents",
          "Wednesdays in 2015 were the #11 worst day for accidents"
         ],
         "name": "Wednesday",
         "text": [
          677,
          613,
          566,
          572,
          551,
          691,
          537,
          592,
          653,
          565,
          587,
          561,
          642
         ],
         "type": "bar",
         "x": [
          2003,
          2004,
          2005,
          2006,
          2007,
          2008,
          2009,
          2010,
          2011,
          2012,
          2013,
          2014,
          2015
         ],
         "y": [
          677,
          613,
          566,
          572,
          551,
          691,
          537,
          592,
          653,
          565,
          587,
          561,
          642
         ]
        },
        {
         "hoverinfo": "text",
         "hovertemplate": "<b>Day of the week</b>: Thursday<br><b>Year</b>: %{x}<br><b>Accidents</b>: %{y}<br><br>%{hovertext}<extra></extra>",
         "hovertext": [
          "Thursdays in 2003 were the #26 worst day for accidents",
          "Thursdays in 2004 were the #74 worst day for accidents",
          "Thursdays in 2005 were the #38 worst day for accidents",
          "Thursdays in 2006 were the #55 worst day for accidents",
          "Thursdays in 2007 were the #77 worst day for accidents",
          "Thursdays in 2008 were the #14 worst day for accidents",
          "Thursdays in 2009 were the #70 worst day for accidents",
          "Thursdays in 2010 were the #56 worst day for accidents",
          "Thursdays in 2011 were the #26 worst day for accidents",
          "Thursdays in 2012 were the #38 worst day for accidents",
          "Thursdays in 2013 were the #63 worst day for accidents",
          "Thursdays in 2014 were the #19 worst day for accidents",
          "Thursdays in 2015 were the #30 worst day for accidents"
         ],
         "name": "Thursday",
         "text": [
          613,
          551,
          600,
          569,
          550,
          636,
          556,
          567,
          613,
          600,
          563,
          621,
          611
         ],
         "type": "bar",
         "x": [
          2003,
          2004,
          2005,
          2006,
          2007,
          2008,
          2009,
          2010,
          2011,
          2012,
          2013,
          2014,
          2015
         ],
         "y": [
          613,
          551,
          600,
          569,
          550,
          636,
          556,
          567,
          613,
          600,
          563,
          621,
          611
         ]
        },
        {
         "hoverinfo": "text",
         "hovertemplate": "<b>Day of the week</b>: Friday<br><b>Year</b>: %{x}<br><b>Accidents</b>: %{y}<br><br>%{hovertext}<extra></extra>",
         "hovertext": [
          "Fridays in 2003 were the #3 worst day for accidents",
          "Fridays in 2004 were the #41 worst day for accidents",
          "Fridays in 2005 were the #47 worst day for accidents",
          "Fridays in 2006 were the #49 worst day for accidents",
          "Fridays in 2007 were the #29 worst day for accidents",
          "Fridays in 2008 were the #38 worst day for accidents",
          "Fridays in 2009 were the #56 worst day for accidents",
          "Fridays in 2010 were the #78 worst day for accidents",
          "Fridays in 2011 were the #79 worst day for accidents",
          "Fridays in 2012 were the #21 worst day for accidents",
          "Fridays in 2013 were the #65 worst day for accidents",
          "Fridays in 2014 were the #52 worst day for accidents",
          "Fridays in 2015 were the #42 worst day for accidents"
         ],
         "name": "Friday",
         "text": [
          679,
          599,
          583,
          576,
          612,
          600,
          567,
          549,
          548,
          620,
          562,
          571,
          593
         ],
         "type": "bar",
         "x": [
          2003,
          2004,
          2005,
          2006,
          2007,
          2008,
          2009,
          2010,
          2011,
          2012,
          2013,
          2014,
          2015
         ],
         "y": [
          679,
          599,
          583,
          576,
          612,
          600,
          567,
          549,
          548,
          620,
          562,
          571,
          593
         ]
        },
        {
         "hoverinfo": "text",
         "hovertemplate": "<b>Day of the week</b>: Saturday<br><b>Year</b>: %{x}<br><b>Accidents</b>: %{y}<br><br>%{hovertext}<extra></extra>",
         "hovertext": [
          "Saturdays in 2003 were the #50 worst day for accidents",
          "Saturdays in 2004 were the #18 worst day for accidents",
          "Saturdays in 2005 were the #56 worst day for accidents",
          "Saturdays in 2006 were the #73 worst day for accidents",
          "Saturdays in 2007 were the #48 worst day for accidents",
          "Saturdays in 2008 were the #80 worst day for accidents",
          "Saturdays in 2009 were the #84 worst day for accidents",
          "Saturdays in 2010 were the #34 worst day for accidents",
          "Saturdays in 2011 were the #89 worst day for accidents",
          "Saturdays in 2012 were the #22 worst day for accidents",
          "Saturdays in 2013 were the #10 worst day for accidents",
          "Saturdays in 2014 were the #30 worst day for accidents",
          "Saturdays in 2015 were the #30 worst day for accidents"
         ],
         "name": "Saturday",
         "text": [
          575,
          626,
          567,
          552,
          577,
          546,
          536,
          609,
          521,
          617,
          647,
          611,
          611
         ],
         "type": "bar",
         "x": [
          2003,
          2004,
          2005,
          2006,
          2007,
          2008,
          2009,
          2010,
          2011,
          2012,
          2013,
          2014,
          2015
         ],
         "y": [
          575,
          626,
          567,
          552,
          577,
          546,
          536,
          609,
          521,
          617,
          647,
          611,
          611
         ]
        },
        {
         "hoverinfo": "text",
         "hovertemplate": "<b>Day of the week</b>: Sunday<br><b>Year</b>: %{x}<br><b>Accidents</b>: %{y}<br><br>%{hovertext}<extra></extra>",
         "hovertext": [
          "Sundays in 2003 were the #5 worst day for accidents",
          "Sundays in 2004 were the #87 worst day for accidents",
          "Sundays in 2005 were the #63 worst day for accidents",
          "Sundays in 2006 were the #74 worst day for accidents",
          "Sundays in 2007 were the #86 worst day for accidents",
          "Sundays in 2008 were the #6 worst day for accidents",
          "Sundays in 2009 were the #44 worst day for accidents",
          "Sundays in 2010 were the #53 worst day for accidents",
          "Sundays in 2011 were the #70 worst day for accidents",
          "Sundays in 2012 were the #53 worst day for accidents",
          "Sundays in 2013 were the #68 worst day for accidents",
          "Sundays in 2014 were the #19 worst day for accidents",
          "Sundays in 2015 were the #33 worst day for accidents"
         ],
         "name": "Sunday",
         "text": [
          662,
          528,
          563,
          551,
          533,
          658,
          591,
          570,
          556,
          570,
          557,
          621,
          610
         ],
         "type": "bar",
         "x": [
          2003,
          2004,
          2005,
          2006,
          2007,
          2008,
          2009,
          2010,
          2011,
          2012,
          2013,
          2014,
          2015
         ],
         "y": [
          662,
          528,
          563,
          551,
          533,
          658,
          591,
          570,
          556,
          570,
          557,
          621,
          610
         ]
        }
       ],
       "layout": {
        "barmode": "group",
        "height": 900,
        "legend": {
         "title": {
          "text": "Day of the Week"
         }
        },
        "template": {
         "data": {
          "bar": [
           {
            "error_x": {
             "color": "rgb(36,36,36)"
            },
            "error_y": {
             "color": "rgb(36,36,36)"
            },
            "marker": {
             "line": {
              "color": "rgb(234,234,242)",
              "width": 0.5
             },
             "pattern": {
              "fillmode": "overlay",
              "size": 10,
              "solidity": 0.2
             }
            },
            "type": "bar"
           }
          ],
          "barpolar": [
           {
            "marker": {
             "line": {
              "color": "rgb(234,234,242)",
              "width": 0.5
             },
             "pattern": {
              "fillmode": "overlay",
              "size": 10,
              "solidity": 0.2
             }
            },
            "type": "barpolar"
           }
          ],
          "carpet": [
           {
            "aaxis": {
             "endlinecolor": "rgb(36,36,36)",
             "gridcolor": "white",
             "linecolor": "white",
             "minorgridcolor": "white",
             "startlinecolor": "rgb(36,36,36)"
            },
            "baxis": {
             "endlinecolor": "rgb(36,36,36)",
             "gridcolor": "white",
             "linecolor": "white",
             "minorgridcolor": "white",
             "startlinecolor": "rgb(36,36,36)"
            },
            "type": "carpet"
           }
          ],
          "choropleth": [
           {
            "colorbar": {
             "outlinewidth": 0,
             "tickcolor": "rgb(36,36,36)",
             "ticklen": 8,
             "ticks": "outside",
             "tickwidth": 2
            },
            "type": "choropleth"
           }
          ],
          "contour": [
           {
            "colorbar": {
             "outlinewidth": 0,
             "tickcolor": "rgb(36,36,36)",
             "ticklen": 8,
             "ticks": "outside",
             "tickwidth": 2
            },
            "colorscale": [
             [
              0,
              "rgb(2,4,25)"
             ],
             [
              0.06274509803921569,
              "rgb(24,15,41)"
             ],
             [
              0.12549019607843137,
              "rgb(47,23,57)"
             ],
             [
              0.18823529411764706,
              "rgb(71,28,72)"
             ],
             [
              0.25098039215686274,
              "rgb(97,30,82)"
             ],
             [
              0.3137254901960784,
              "rgb(123,30,89)"
             ],
             [
              0.3764705882352941,
              "rgb(150,27,91)"
             ],
             [
              0.4392156862745098,
              "rgb(177,22,88)"
             ],
             [
              0.5019607843137255,
              "rgb(203,26,79)"
             ],
             [
              0.5647058823529412,
              "rgb(223,47,67)"
             ],
             [
              0.6274509803921569,
              "rgb(236,76,61)"
             ],
             [
              0.6901960784313725,
              "rgb(242,107,73)"
             ],
             [
              0.7529411764705882,
              "rgb(244,135,95)"
             ],
             [
              0.8156862745098039,
              "rgb(245,162,122)"
             ],
             [
              0.8784313725490196,
              "rgb(246,188,153)"
             ],
             [
              0.9411764705882353,
              "rgb(247,212,187)"
             ],
             [
              1,
              "rgb(250,234,220)"
             ]
            ],
            "type": "contour"
           }
          ],
          "contourcarpet": [
           {
            "colorbar": {
             "outlinewidth": 0,
             "tickcolor": "rgb(36,36,36)",
             "ticklen": 8,
             "ticks": "outside",
             "tickwidth": 2
            },
            "type": "contourcarpet"
           }
          ],
          "heatmap": [
           {
            "colorbar": {
             "outlinewidth": 0,
             "tickcolor": "rgb(36,36,36)",
             "ticklen": 8,
             "ticks": "outside",
             "tickwidth": 2
            },
            "colorscale": [
             [
              0,
              "rgb(2,4,25)"
             ],
             [
              0.06274509803921569,
              "rgb(24,15,41)"
             ],
             [
              0.12549019607843137,
              "rgb(47,23,57)"
             ],
             [
              0.18823529411764706,
              "rgb(71,28,72)"
             ],
             [
              0.25098039215686274,
              "rgb(97,30,82)"
             ],
             [
              0.3137254901960784,
              "rgb(123,30,89)"
             ],
             [
              0.3764705882352941,
              "rgb(150,27,91)"
             ],
             [
              0.4392156862745098,
              "rgb(177,22,88)"
             ],
             [
              0.5019607843137255,
              "rgb(203,26,79)"
             ],
             [
              0.5647058823529412,
              "rgb(223,47,67)"
             ],
             [
              0.6274509803921569,
              "rgb(236,76,61)"
             ],
             [
              0.6901960784313725,
              "rgb(242,107,73)"
             ],
             [
              0.7529411764705882,
              "rgb(244,135,95)"
             ],
             [
              0.8156862745098039,
              "rgb(245,162,122)"
             ],
             [
              0.8784313725490196,
              "rgb(246,188,153)"
             ],
             [
              0.9411764705882353,
              "rgb(247,212,187)"
             ],
             [
              1,
              "rgb(250,234,220)"
             ]
            ],
            "type": "heatmap"
           }
          ],
          "heatmapgl": [
           {
            "colorbar": {
             "outlinewidth": 0,
             "tickcolor": "rgb(36,36,36)",
             "ticklen": 8,
             "ticks": "outside",
             "tickwidth": 2
            },
            "colorscale": [
             [
              0,
              "rgb(2,4,25)"
             ],
             [
              0.06274509803921569,
              "rgb(24,15,41)"
             ],
             [
              0.12549019607843137,
              "rgb(47,23,57)"
             ],
             [
              0.18823529411764706,
              "rgb(71,28,72)"
             ],
             [
              0.25098039215686274,
              "rgb(97,30,82)"
             ],
             [
              0.3137254901960784,
              "rgb(123,30,89)"
             ],
             [
              0.3764705882352941,
              "rgb(150,27,91)"
             ],
             [
              0.4392156862745098,
              "rgb(177,22,88)"
             ],
             [
              0.5019607843137255,
              "rgb(203,26,79)"
             ],
             [
              0.5647058823529412,
              "rgb(223,47,67)"
             ],
             [
              0.6274509803921569,
              "rgb(236,76,61)"
             ],
             [
              0.6901960784313725,
              "rgb(242,107,73)"
             ],
             [
              0.7529411764705882,
              "rgb(244,135,95)"
             ],
             [
              0.8156862745098039,
              "rgb(245,162,122)"
             ],
             [
              0.8784313725490196,
              "rgb(246,188,153)"
             ],
             [
              0.9411764705882353,
              "rgb(247,212,187)"
             ],
             [
              1,
              "rgb(250,234,220)"
             ]
            ],
            "type": "heatmapgl"
           }
          ],
          "histogram": [
           {
            "marker": {
             "pattern": {
              "fillmode": "overlay",
              "size": 10,
              "solidity": 0.2
             }
            },
            "type": "histogram"
           }
          ],
          "histogram2d": [
           {
            "colorbar": {
             "outlinewidth": 0,
             "tickcolor": "rgb(36,36,36)",
             "ticklen": 8,
             "ticks": "outside",
             "tickwidth": 2
            },
            "colorscale": [
             [
              0,
              "rgb(2,4,25)"
             ],
             [
              0.06274509803921569,
              "rgb(24,15,41)"
             ],
             [
              0.12549019607843137,
              "rgb(47,23,57)"
             ],
             [
              0.18823529411764706,
              "rgb(71,28,72)"
             ],
             [
              0.25098039215686274,
              "rgb(97,30,82)"
             ],
             [
              0.3137254901960784,
              "rgb(123,30,89)"
             ],
             [
              0.3764705882352941,
              "rgb(150,27,91)"
             ],
             [
              0.4392156862745098,
              "rgb(177,22,88)"
             ],
             [
              0.5019607843137255,
              "rgb(203,26,79)"
             ],
             [
              0.5647058823529412,
              "rgb(223,47,67)"
             ],
             [
              0.6274509803921569,
              "rgb(236,76,61)"
             ],
             [
              0.6901960784313725,
              "rgb(242,107,73)"
             ],
             [
              0.7529411764705882,
              "rgb(244,135,95)"
             ],
             [
              0.8156862745098039,
              "rgb(245,162,122)"
             ],
             [
              0.8784313725490196,
              "rgb(246,188,153)"
             ],
             [
              0.9411764705882353,
              "rgb(247,212,187)"
             ],
             [
              1,
              "rgb(250,234,220)"
             ]
            ],
            "type": "histogram2d"
           }
          ],
          "histogram2dcontour": [
           {
            "colorbar": {
             "outlinewidth": 0,
             "tickcolor": "rgb(36,36,36)",
             "ticklen": 8,
             "ticks": "outside",
             "tickwidth": 2
            },
            "colorscale": [
             [
              0,
              "rgb(2,4,25)"
             ],
             [
              0.06274509803921569,
              "rgb(24,15,41)"
             ],
             [
              0.12549019607843137,
              "rgb(47,23,57)"
             ],
             [
              0.18823529411764706,
              "rgb(71,28,72)"
             ],
             [
              0.25098039215686274,
              "rgb(97,30,82)"
             ],
             [
              0.3137254901960784,
              "rgb(123,30,89)"
             ],
             [
              0.3764705882352941,
              "rgb(150,27,91)"
             ],
             [
              0.4392156862745098,
              "rgb(177,22,88)"
             ],
             [
              0.5019607843137255,
              "rgb(203,26,79)"
             ],
             [
              0.5647058823529412,
              "rgb(223,47,67)"
             ],
             [
              0.6274509803921569,
              "rgb(236,76,61)"
             ],
             [
              0.6901960784313725,
              "rgb(242,107,73)"
             ],
             [
              0.7529411764705882,
              "rgb(244,135,95)"
             ],
             [
              0.8156862745098039,
              "rgb(245,162,122)"
             ],
             [
              0.8784313725490196,
              "rgb(246,188,153)"
             ],
             [
              0.9411764705882353,
              "rgb(247,212,187)"
             ],
             [
              1,
              "rgb(250,234,220)"
             ]
            ],
            "type": "histogram2dcontour"
           }
          ],
          "mesh3d": [
           {
            "colorbar": {
             "outlinewidth": 0,
             "tickcolor": "rgb(36,36,36)",
             "ticklen": 8,
             "ticks": "outside",
             "tickwidth": 2
            },
            "type": "mesh3d"
           }
          ],
          "parcoords": [
           {
            "line": {
             "colorbar": {
              "outlinewidth": 0,
              "tickcolor": "rgb(36,36,36)",
              "ticklen": 8,
              "ticks": "outside",
              "tickwidth": 2
             }
            },
            "type": "parcoords"
           }
          ],
          "pie": [
           {
            "automargin": true,
            "type": "pie"
           }
          ],
          "scatter": [
           {
            "fillpattern": {
             "fillmode": "overlay",
             "size": 10,
             "solidity": 0.2
            },
            "type": "scatter"
           }
          ],
          "scatter3d": [
           {
            "line": {
             "colorbar": {
              "outlinewidth": 0,
              "tickcolor": "rgb(36,36,36)",
              "ticklen": 8,
              "ticks": "outside",
              "tickwidth": 2
             }
            },
            "marker": {
             "colorbar": {
              "outlinewidth": 0,
              "tickcolor": "rgb(36,36,36)",
              "ticklen": 8,
              "ticks": "outside",
              "tickwidth": 2
             }
            },
            "type": "scatter3d"
           }
          ],
          "scattercarpet": [
           {
            "marker": {
             "colorbar": {
              "outlinewidth": 0,
              "tickcolor": "rgb(36,36,36)",
              "ticklen": 8,
              "ticks": "outside",
              "tickwidth": 2
             }
            },
            "type": "scattercarpet"
           }
          ],
          "scattergeo": [
           {
            "marker": {
             "colorbar": {
              "outlinewidth": 0,
              "tickcolor": "rgb(36,36,36)",
              "ticklen": 8,
              "ticks": "outside",
              "tickwidth": 2
             }
            },
            "type": "scattergeo"
           }
          ],
          "scattergl": [
           {
            "marker": {
             "colorbar": {
              "outlinewidth": 0,
              "tickcolor": "rgb(36,36,36)",
              "ticklen": 8,
              "ticks": "outside",
              "tickwidth": 2
             }
            },
            "type": "scattergl"
           }
          ],
          "scattermapbox": [
           {
            "marker": {
             "colorbar": {
              "outlinewidth": 0,
              "tickcolor": "rgb(36,36,36)",
              "ticklen": 8,
              "ticks": "outside",
              "tickwidth": 2
             }
            },
            "type": "scattermapbox"
           }
          ],
          "scatterpolar": [
           {
            "marker": {
             "colorbar": {
              "outlinewidth": 0,
              "tickcolor": "rgb(36,36,36)",
              "ticklen": 8,
              "ticks": "outside",
              "tickwidth": 2
             }
            },
            "type": "scatterpolar"
           }
          ],
          "scatterpolargl": [
           {
            "marker": {
             "colorbar": {
              "outlinewidth": 0,
              "tickcolor": "rgb(36,36,36)",
              "ticklen": 8,
              "ticks": "outside",
              "tickwidth": 2
             }
            },
            "type": "scatterpolargl"
           }
          ],
          "scatterternary": [
           {
            "marker": {
             "colorbar": {
              "outlinewidth": 0,
              "tickcolor": "rgb(36,36,36)",
              "ticklen": 8,
              "ticks": "outside",
              "tickwidth": 2
             }
            },
            "type": "scatterternary"
           }
          ],
          "surface": [
           {
            "colorbar": {
             "outlinewidth": 0,
             "tickcolor": "rgb(36,36,36)",
             "ticklen": 8,
             "ticks": "outside",
             "tickwidth": 2
            },
            "colorscale": [
             [
              0,
              "rgb(2,4,25)"
             ],
             [
              0.06274509803921569,
              "rgb(24,15,41)"
             ],
             [
              0.12549019607843137,
              "rgb(47,23,57)"
             ],
             [
              0.18823529411764706,
              "rgb(71,28,72)"
             ],
             [
              0.25098039215686274,
              "rgb(97,30,82)"
             ],
             [
              0.3137254901960784,
              "rgb(123,30,89)"
             ],
             [
              0.3764705882352941,
              "rgb(150,27,91)"
             ],
             [
              0.4392156862745098,
              "rgb(177,22,88)"
             ],
             [
              0.5019607843137255,
              "rgb(203,26,79)"
             ],
             [
              0.5647058823529412,
              "rgb(223,47,67)"
             ],
             [
              0.6274509803921569,
              "rgb(236,76,61)"
             ],
             [
              0.6901960784313725,
              "rgb(242,107,73)"
             ],
             [
              0.7529411764705882,
              "rgb(244,135,95)"
             ],
             [
              0.8156862745098039,
              "rgb(245,162,122)"
             ],
             [
              0.8784313725490196,
              "rgb(246,188,153)"
             ],
             [
              0.9411764705882353,
              "rgb(247,212,187)"
             ],
             [
              1,
              "rgb(250,234,220)"
             ]
            ],
            "type": "surface"
           }
          ],
          "table": [
           {
            "cells": {
             "fill": {
              "color": "rgb(231,231,240)"
             },
             "line": {
              "color": "white"
             }
            },
            "header": {
             "fill": {
              "color": "rgb(183,183,191)"
             },
             "line": {
              "color": "white"
             }
            },
            "type": "table"
           }
          ]
         },
         "layout": {
          "annotationdefaults": {
           "arrowcolor": "rgb(67,103,167)"
          },
          "autotypenumbers": "strict",
          "coloraxis": {
           "colorbar": {
            "outlinewidth": 0,
            "tickcolor": "rgb(36,36,36)",
            "ticklen": 8,
            "ticks": "outside",
            "tickwidth": 2
           }
          },
          "colorscale": {
           "sequential": [
            [
             0,
             "rgb(2,4,25)"
            ],
            [
             0.06274509803921569,
             "rgb(24,15,41)"
            ],
            [
             0.12549019607843137,
             "rgb(47,23,57)"
            ],
            [
             0.18823529411764706,
             "rgb(71,28,72)"
            ],
            [
             0.25098039215686274,
             "rgb(97,30,82)"
            ],
            [
             0.3137254901960784,
             "rgb(123,30,89)"
            ],
            [
             0.3764705882352941,
             "rgb(150,27,91)"
            ],
            [
             0.4392156862745098,
             "rgb(177,22,88)"
            ],
            [
             0.5019607843137255,
             "rgb(203,26,79)"
            ],
            [
             0.5647058823529412,
             "rgb(223,47,67)"
            ],
            [
             0.6274509803921569,
             "rgb(236,76,61)"
            ],
            [
             0.6901960784313725,
             "rgb(242,107,73)"
            ],
            [
             0.7529411764705882,
             "rgb(244,135,95)"
            ],
            [
             0.8156862745098039,
             "rgb(245,162,122)"
            ],
            [
             0.8784313725490196,
             "rgb(246,188,153)"
            ],
            [
             0.9411764705882353,
             "rgb(247,212,187)"
            ],
            [
             1,
             "rgb(250,234,220)"
            ]
           ],
           "sequentialminus": [
            [
             0,
             "rgb(2,4,25)"
            ],
            [
             0.06274509803921569,
             "rgb(24,15,41)"
            ],
            [
             0.12549019607843137,
             "rgb(47,23,57)"
            ],
            [
             0.18823529411764706,
             "rgb(71,28,72)"
            ],
            [
             0.25098039215686274,
             "rgb(97,30,82)"
            ],
            [
             0.3137254901960784,
             "rgb(123,30,89)"
            ],
            [
             0.3764705882352941,
             "rgb(150,27,91)"
            ],
            [
             0.4392156862745098,
             "rgb(177,22,88)"
            ],
            [
             0.5019607843137255,
             "rgb(203,26,79)"
            ],
            [
             0.5647058823529412,
             "rgb(223,47,67)"
            ],
            [
             0.6274509803921569,
             "rgb(236,76,61)"
            ],
            [
             0.6901960784313725,
             "rgb(242,107,73)"
            ],
            [
             0.7529411764705882,
             "rgb(244,135,95)"
            ],
            [
             0.8156862745098039,
             "rgb(245,162,122)"
            ],
            [
             0.8784313725490196,
             "rgb(246,188,153)"
            ],
            [
             0.9411764705882353,
             "rgb(247,212,187)"
            ],
            [
             1,
             "rgb(250,234,220)"
            ]
           ]
          },
          "colorway": [
           "rgb(76,114,176)",
           "rgb(221,132,82)",
           "rgb(85,168,104)",
           "rgb(196,78,82)",
           "rgb(129,114,179)",
           "rgb(147,120,96)",
           "rgb(218,139,195)",
           "rgb(140,140,140)",
           "rgb(204,185,116)",
           "rgb(100,181,205)"
          ],
          "font": {
           "color": "rgb(36,36,36)"
          },
          "geo": {
           "bgcolor": "white",
           "lakecolor": "white",
           "landcolor": "rgb(234,234,242)",
           "showlakes": true,
           "showland": true,
           "subunitcolor": "white"
          },
          "hoverlabel": {
           "align": "left"
          },
          "hovermode": "closest",
          "paper_bgcolor": "white",
          "plot_bgcolor": "rgb(234,234,242)",
          "polar": {
           "angularaxis": {
            "gridcolor": "white",
            "linecolor": "white",
            "showgrid": true,
            "ticks": ""
           },
           "bgcolor": "rgb(234,234,242)",
           "radialaxis": {
            "gridcolor": "white",
            "linecolor": "white",
            "showgrid": true,
            "ticks": ""
           }
          },
          "scene": {
           "xaxis": {
            "backgroundcolor": "rgb(234,234,242)",
            "gridcolor": "white",
            "gridwidth": 2,
            "linecolor": "white",
            "showbackground": true,
            "showgrid": true,
            "ticks": "",
            "zerolinecolor": "white"
           },
           "yaxis": {
            "backgroundcolor": "rgb(234,234,242)",
            "gridcolor": "white",
            "gridwidth": 2,
            "linecolor": "white",
            "showbackground": true,
            "showgrid": true,
            "ticks": "",
            "zerolinecolor": "white"
           },
           "zaxis": {
            "backgroundcolor": "rgb(234,234,242)",
            "gridcolor": "white",
            "gridwidth": 2,
            "linecolor": "white",
            "showbackground": true,
            "showgrid": true,
            "ticks": "",
            "zerolinecolor": "white"
           }
          },
          "shapedefaults": {
           "fillcolor": "rgb(67,103,167)",
           "line": {
            "width": 0
           },
           "opacity": 0.5
          },
          "ternary": {
           "aaxis": {
            "gridcolor": "white",
            "linecolor": "white",
            "showgrid": true,
            "ticks": ""
           },
           "baxis": {
            "gridcolor": "white",
            "linecolor": "white",
            "showgrid": true,
            "ticks": ""
           },
           "bgcolor": "rgb(234,234,242)",
           "caxis": {
            "gridcolor": "white",
            "linecolor": "white",
            "showgrid": true,
            "ticks": ""
           }
          },
          "xaxis": {
           "automargin": true,
           "gridcolor": "white",
           "linecolor": "white",
           "showgrid": true,
           "ticks": "",
           "title": {
            "standoff": 15
           },
           "zerolinecolor": "white"
          },
          "yaxis": {
           "automargin": true,
           "gridcolor": "white",
           "linecolor": "white",
           "showgrid": true,
           "ticks": "",
           "title": {
            "standoff": 15
           },
           "zerolinecolor": "white"
          }
         }
        },
        "title": {
         "font": {
          "color": "black",
          "family": "Arial, sans-serif",
          "size": 24
         },
         "text": "Number of Accidents by Day of the Week (2003-2015)",
         "x": 0.5,
         "xanchor": "center",
         "y": 0.92,
         "yanchor": "top"
        },
        "uniformtext": {
         "minsize": 8,
         "mode": "hide"
        },
        "xaxis": {
         "title": {
          "text": "Year"
         }
        },
        "yaxis": {
         "title": {
          "text": "Number of Accidents"
         }
        }
       }
      }
     },
     "metadata": {},
     "output_type": "display_data"
    }
   ],
   "source": [
    "# Create a figure with plotly.graph_objects\n",
    "fig = go.Figure()\n",
    "\n",
    "\n",
    "# Add one bar for each day of the week\n",
    "for idx, day in enumerate(ordered_days):\n",
    "    day_data = accidents_long_df[accidents_long_df['DayOfWeek'] == day]\n",
    "    fig.add_trace(go.Bar(\n",
    "        x=day_data['Year'],\n",
    "        y=day_data['Accidents'],\n",
    "        name=day,\n",
    "        text=day_data['Accidents'],  # Number of accidents displayed inside the bar\n",
    "        hoverinfo='text',\n",
    "        hovertemplate='<b>Day of the week</b>: ' + day + '<br>' +\n",
    "                      '<b>Year</b>: %{x}<br>' +\n",
    "                      '<b>Accidents</b>: %{y}<br><br>' +\n",
    "                      '%{hovertext}<extra></extra>',\n",
    "        hovertext=day_data['Tooltip'].str.replace(r\"(#\\d+)\", r\"<b>\\1</b>\"), # Custom hover text\n",
    "    ))\n",
    "\n",
    "# Update the layout for a grouped bar chart\n",
    "fig.update_layout(\n",
    "    height=900,\n",
    "    barmode='group',\n",
    "    title={\n",
    "        'text': 'Number of Accidents by Day of the Week (2003-2015)',\n",
    "        'y':0.92,\n",
    "        'x':0.5,\n",
    "        'xanchor': 'center',\n",
    "        'yanchor': 'top',\n",
    "        'font': dict(\n",
    "            family=\"Arial, sans-serif\",\n",
    "            size=24,\n",
    "            color=\"black\",\n",
    "        ),\n",
    "    },\n",
    "    xaxis=dict(title='Year'),\n",
    "    yaxis=dict(title='Number of Accidents'),\n",
    "    legend_title='Day of the Week',\n",
    "    uniformtext_minsize=8,  # Ensures text size inside bars is readable\n",
    "    uniformtext_mode='hide',  # Hides text if the bar is too small\n",
    "    template='seaborn', # nice!\n",
    ")\n",
    "\n",
    "# Show the figure\n",
    "fig.show()\n",
    "\n",
    "# Save the figure\n",
    "#py.plot(fig, filename='day_of_the_week_plot.html')"
   ]
  },
  {
   "cell_type": "code",
   "execution_count": 8,
   "metadata": {},
   "outputs": [
    {
     "data": {
      "text/html": [
       "<div>\n",
       "<style scoped>\n",
       "    .dataframe tbody tr th:only-of-type {\n",
       "        vertical-align: middle;\n",
       "    }\n",
       "\n",
       "    .dataframe tbody tr th {\n",
       "        vertical-align: top;\n",
       "    }\n",
       "\n",
       "    .dataframe thead th {\n",
       "        text-align: right;\n",
       "    }\n",
       "</style>\n",
       "<table border=\"1\" class=\"dataframe\">\n",
       "  <thead>\n",
       "    <tr style=\"text-align: right;\">\n",
       "      <th></th>\n",
       "      <th>Year</th>\n",
       "      <th>Month</th>\n",
       "      <th>Accidents</th>\n",
       "      <th>Rank</th>\n",
       "      <th>Tooltip</th>\n",
       "    </tr>\n",
       "  </thead>\n",
       "  <tbody>\n",
       "    <tr>\n",
       "      <th>0</th>\n",
       "      <td>2003</td>\n",
       "      <td>Jan</td>\n",
       "      <td>370</td>\n",
       "      <td>52</td>\n",
       "      <td>Jan 2003 was the #52 worst month for accidents</td>\n",
       "    </tr>\n",
       "    <tr>\n",
       "      <th>1</th>\n",
       "      <td>2004</td>\n",
       "      <td>Jan</td>\n",
       "      <td>286</td>\n",
       "      <td>135</td>\n",
       "      <td>Jan 2004 was the #135 worst month for accidents</td>\n",
       "    </tr>\n",
       "    <tr>\n",
       "      <th>2</th>\n",
       "      <td>2005</td>\n",
       "      <td>Jan</td>\n",
       "      <td>384</td>\n",
       "      <td>33</td>\n",
       "      <td>Jan 2005 was the #33 worst month for accidents</td>\n",
       "    </tr>\n",
       "    <tr>\n",
       "      <th>3</th>\n",
       "      <td>2006</td>\n",
       "      <td>Jan</td>\n",
       "      <td>303</td>\n",
       "      <td>122</td>\n",
       "      <td>Jan 2006 was the #122 worst month for accidents</td>\n",
       "    </tr>\n",
       "    <tr>\n",
       "      <th>4</th>\n",
       "      <td>2007</td>\n",
       "      <td>Jan</td>\n",
       "      <td>318</td>\n",
       "      <td>100</td>\n",
       "      <td>Jan 2007 was the #100 worst month for accidents</td>\n",
       "    </tr>\n",
       "    <tr>\n",
       "      <th>...</th>\n",
       "      <td>...</td>\n",
       "      <td>...</td>\n",
       "      <td>...</td>\n",
       "      <td>...</td>\n",
       "      <td>...</td>\n",
       "    </tr>\n",
       "    <tr>\n",
       "      <th>151</th>\n",
       "      <td>2011</td>\n",
       "      <td>Dec</td>\n",
       "      <td>263</td>\n",
       "      <td>149</td>\n",
       "      <td>Dec 2011 was the #149 worst month for accidents</td>\n",
       "    </tr>\n",
       "    <tr>\n",
       "      <th>152</th>\n",
       "      <td>2012</td>\n",
       "      <td>Dec</td>\n",
       "      <td>362</td>\n",
       "      <td>57</td>\n",
       "      <td>Dec 2012 was the #57 worst month for accidents</td>\n",
       "    </tr>\n",
       "    <tr>\n",
       "      <th>153</th>\n",
       "      <td>2013</td>\n",
       "      <td>Dec</td>\n",
       "      <td>380</td>\n",
       "      <td>36</td>\n",
       "      <td>Dec 2013 was the #36 worst month for accidents</td>\n",
       "    </tr>\n",
       "    <tr>\n",
       "      <th>154</th>\n",
       "      <td>2014</td>\n",
       "      <td>Dec</td>\n",
       "      <td>385</td>\n",
       "      <td>30</td>\n",
       "      <td>Dec 2014 was the #30 worst month for accidents</td>\n",
       "    </tr>\n",
       "    <tr>\n",
       "      <th>155</th>\n",
       "      <td>2015</td>\n",
       "      <td>Dec</td>\n",
       "      <td>343</td>\n",
       "      <td>76</td>\n",
       "      <td>Dec 2015 was the #76 worst month for accidents</td>\n",
       "    </tr>\n",
       "  </tbody>\n",
       "</table>\n",
       "<p>156 rows × 5 columns</p>\n",
       "</div>"
      ],
      "text/plain": [
       "     Year Month  Accidents  Rank  \\\n",
       "0    2003   Jan        370    52   \n",
       "1    2004   Jan        286   135   \n",
       "2    2005   Jan        384    33   \n",
       "3    2006   Jan        303   122   \n",
       "4    2007   Jan        318   100   \n",
       "..    ...   ...        ...   ...   \n",
       "151  2011   Dec        263   149   \n",
       "152  2012   Dec        362    57   \n",
       "153  2013   Dec        380    36   \n",
       "154  2014   Dec        385    30   \n",
       "155  2015   Dec        343    76   \n",
       "\n",
       "                                             Tooltip  \n",
       "0     Jan 2003 was the #52 worst month for accidents  \n",
       "1    Jan 2004 was the #135 worst month for accidents  \n",
       "2     Jan 2005 was the #33 worst month for accidents  \n",
       "3    Jan 2006 was the #122 worst month for accidents  \n",
       "4    Jan 2007 was the #100 worst month for accidents  \n",
       "..                                               ...  \n",
       "151  Dec 2011 was the #149 worst month for accidents  \n",
       "152   Dec 2012 was the #57 worst month for accidents  \n",
       "153   Dec 2013 was the #36 worst month for accidents  \n",
       "154   Dec 2014 was the #30 worst month for accidents  \n",
       "155   Dec 2015 was the #76 worst month for accidents  \n",
       "\n",
       "[156 rows x 5 columns]"
      ]
     },
     "execution_count": 8,
     "metadata": {},
     "output_type": "execute_result"
    }
   ],
   "source": [
    "# Using the same methodology here that I used for day_of_the_week\n",
    "\n",
    "df['Month'] = df['Month'].apply(lambda x: calendar.month_abbr[x])\n",
    "\n",
    "\n",
    "accidents_by_month = df.groupby(['Year', 'Month']).size().unstack(fill_value=0)\n",
    "\n",
    "\n",
    "ordered_months = ['Jan', 'Feb', 'Mar', 'Apr', 'May', 'Jun', 'Jul', 'Aug', 'Sep', 'Oct', 'Nov', 'Dec']\n",
    "accidents_by_month = accidents_by_month[ordered_months]\n",
    "\n",
    "\n",
    "accidents_long_df_month = accidents_by_month.reset_index().melt(id_vars='Year', var_name='Month', value_name='Accidents')\n",
    "\n",
    "accidents_long_df_month['Rank'] = accidents_long_df_month['Accidents'].rank(method='min', ascending=False).astype(int)\n",
    "\n",
    "\n",
    "accidents_long_df_month['Tooltip'] = accidents_long_df_month.apply(\n",
    "    lambda row: f\"{row['Month']} {row['Year']} was the #{int(row['Rank'])} worst month for accidents\", axis=1)\n",
    "\n",
    "accidents_long_df_month\n"
   ]
  },
  {
   "cell_type": "code",
   "execution_count": 9,
   "metadata": {},
   "outputs": [
    {
     "data": {
      "application/vnd.plotly.v1+json": {
       "config": {
        "plotlyServerURL": "https://plot.ly"
       },
       "data": [
        {
         "hoverinfo": "text",
         "hovertemplate": "<b>Month</b>: Jan<br><b>Year</b>: %{text}<br><b>Accidents</b>: %{y}<br><br>%{hovertext}<extra></extra>",
         "hovertext": [
          "Jan 2003 was the #52 worst month for accidents",
          "Jan 2004 was the #135 worst month for accidents",
          "Jan 2005 was the #33 worst month for accidents",
          "Jan 2006 was the #122 worst month for accidents",
          "Jan 2007 was the #100 worst month for accidents",
          "Jan 2008 was the #57 worst month for accidents",
          "Jan 2009 was the #46 worst month for accidents",
          "Jan 2010 was the #36 worst month for accidents",
          "Jan 2011 was the #63 worst month for accidents",
          "Jan 2012 was the #22 worst month for accidents",
          "Jan 2013 was the #50 worst month for accidents",
          "Jan 2014 was the #23 worst month for accidents",
          "Jan 2015 was the #92 worst month for accidents"
         ],
         "name": "Jan",
         "text": [
          370,
          286,
          384,
          303,
          318,
          362,
          375,
          380,
          356,
          393,
          373,
          392,
          327
         ],
         "type": "bar",
         "x": [
          2003,
          2004,
          2005,
          2006,
          2007,
          2008,
          2009,
          2010,
          2011,
          2012,
          2013,
          2014,
          2015
         ],
         "y": [
          370,
          286,
          384,
          303,
          318,
          362,
          375,
          380,
          356,
          393,
          373,
          392,
          327
         ]
        },
        {
         "hoverinfo": "text",
         "hovertemplate": "<b>Month</b>: Feb<br><b>Year</b>: %{text}<br><b>Accidents</b>: %{y}<br><br>%{hovertext}<extra></extra>",
         "hovertext": [
          "Feb 2003 was the #4 worst month for accidents",
          "Feb 2004 was the #46 worst month for accidents",
          "Feb 2005 was the #126 worst month for accidents",
          "Feb 2006 was the #118 worst month for accidents",
          "Feb 2007 was the #28 worst month for accidents",
          "Feb 2008 was the #35 worst month for accidents",
          "Feb 2009 was the #91 worst month for accidents",
          "Feb 2010 was the #56 worst month for accidents",
          "Feb 2011 was the #144 worst month for accidents",
          "Feb 2012 was the #119 worst month for accidents",
          "Feb 2013 was the #136 worst month for accidents",
          "Feb 2014 was the #48 worst month for accidents",
          "Feb 2015 was the #51 worst month for accidents"
         ],
         "name": "Feb",
         "text": [
          457,
          375,
          298,
          307,
          388,
          382,
          329,
          363,
          271,
          306,
          284,
          374,
          372
         ],
         "type": "bar",
         "x": [
          2003,
          2004,
          2005,
          2006,
          2007,
          2008,
          2009,
          2010,
          2011,
          2012,
          2013,
          2014,
          2015
         ],
         "y": [
          457,
          375,
          298,
          307,
          388,
          382,
          329,
          363,
          271,
          306,
          284,
          374,
          372
         ]
        },
        {
         "hoverinfo": "text",
         "hovertemplate": "<b>Month</b>: Mar<br><b>Year</b>: %{text}<br><b>Accidents</b>: %{y}<br><br>%{hovertext}<extra></extra>",
         "hovertext": [
          "Mar 2003 was the #124 worst month for accidents",
          "Mar 2004 was the #88 worst month for accidents",
          "Mar 2005 was the #147 worst month for accidents",
          "Mar 2006 was the #150 worst month for accidents",
          "Mar 2007 was the #151 worst month for accidents",
          "Mar 2008 was the #92 worst month for accidents",
          "Mar 2009 was the #142 worst month for accidents",
          "Mar 2010 was the #136 worst month for accidents",
          "Mar 2011 was the #153 worst month for accidents",
          "Mar 2012 was the #105 worst month for accidents",
          "Mar 2013 was the #103 worst month for accidents",
          "Mar 2014 was the #138 worst month for accidents",
          "Mar 2015 was the #67 worst month for accidents"
         ],
         "name": "Mar",
         "text": [
          301,
          332,
          264,
          262,
          260,
          327,
          278,
          284,
          258,
          313,
          314,
          283,
          354
         ],
         "type": "bar",
         "x": [
          2003,
          2004,
          2005,
          2006,
          2007,
          2008,
          2009,
          2010,
          2011,
          2012,
          2013,
          2014,
          2015
         ],
         "y": [
          301,
          332,
          264,
          262,
          260,
          327,
          278,
          284,
          258,
          313,
          314,
          283,
          354
         ]
        },
        {
         "hoverinfo": "text",
         "hovertemplate": "<b>Month</b>: Apr<br><b>Year</b>: %{text}<br><b>Accidents</b>: %{y}<br><br>%{hovertext}<extra></extra>",
         "hovertext": [
          "Apr 2003 was the #92 worst month for accidents",
          "Apr 2004 was the #40 worst month for accidents",
          "Apr 2005 was the #67 worst month for accidents",
          "Apr 2006 was the #88 worst month for accidents",
          "Apr 2007 was the #90 worst month for accidents",
          "Apr 2008 was the #55 worst month for accidents",
          "Apr 2009 was the #53 worst month for accidents",
          "Apr 2010 was the #43 worst month for accidents",
          "Apr 2011 was the #70 worst month for accidents",
          "Apr 2012 was the #60 worst month for accidents",
          "Apr 2013 was the #120 worst month for accidents",
          "Apr 2014 was the #62 worst month for accidents",
          "Apr 2015 was the #75 worst month for accidents"
         ],
         "name": "Apr",
         "text": [
          327,
          379,
          354,
          332,
          331,
          365,
          369,
          376,
          351,
          361,
          304,
          358,
          344
         ],
         "type": "bar",
         "x": [
          2003,
          2004,
          2005,
          2006,
          2007,
          2008,
          2009,
          2010,
          2011,
          2012,
          2013,
          2014,
          2015
         ],
         "y": [
          327,
          379,
          354,
          332,
          331,
          365,
          369,
          376,
          351,
          361,
          304,
          358,
          344
         ]
        },
        {
         "hoverinfo": "text",
         "hovertemplate": "<b>Month</b>: May<br><b>Year</b>: %{text}<br><b>Accidents</b>: %{y}<br><br>%{hovertext}<extra></extra>",
         "hovertext": [
          "May 2003 was the #78 worst month for accidents",
          "May 2004 was the #29 worst month for accidents",
          "May 2005 was the #131 worst month for accidents",
          "May 2006 was the #129 worst month for accidents",
          "May 2007 was the #116 worst month for accidents",
          "May 2008 was the #105 worst month for accidents",
          "May 2009 was the #108 worst month for accidents",
          "May 2010 was the #114 worst month for accidents",
          "May 2011 was the #103 worst month for accidents",
          "May 2012 was the #76 worst month for accidents",
          "May 2013 was the #101 worst month for accidents",
          "May 2014 was the #112 worst month for accidents",
          "May 2015 was the #71 worst month for accidents"
         ],
         "name": "May",
         "text": [
          342,
          386,
          293,
          296,
          308,
          313,
          312,
          309,
          314,
          343,
          316,
          310,
          350
         ],
         "type": "bar",
         "x": [
          2003,
          2004,
          2005,
          2006,
          2007,
          2008,
          2009,
          2010,
          2011,
          2012,
          2013,
          2014,
          2015
         ],
         "y": [
          342,
          386,
          293,
          296,
          308,
          313,
          312,
          309,
          314,
          343,
          316,
          310,
          350
         ]
        },
        {
         "hoverinfo": "text",
         "hovertemplate": "<b>Month</b>: Jun<br><b>Year</b>: %{text}<br><b>Accidents</b>: %{y}<br><br>%{hovertext}<extra></extra>",
         "hovertext": [
          "Jun 2003 was the #84 worst month for accidents",
          "Jun 2004 was the #128 worst month for accidents",
          "Jun 2005 was the #138 worst month for accidents",
          "Jun 2006 was the #145 worst month for accidents",
          "Jun 2007 was the #120 worst month for accidents",
          "Jun 2008 was the #112 worst month for accidents",
          "Jun 2009 was the #146 worst month for accidents",
          "Jun 2010 was the #154 worst month for accidents",
          "Jun 2011 was the #151 worst month for accidents",
          "Jun 2012 was the #97 worst month for accidents",
          "Jun 2013 was the #143 worst month for accidents",
          "Jun 2014 was the #155 worst month for accidents",
          "Jun 2015 was the #129 worst month for accidents"
         ],
         "name": "Jun",
         "text": [
          338,
          297,
          283,
          270,
          304,
          310,
          265,
          257,
          260,
          324,
          273,
          254,
          296
         ],
         "type": "bar",
         "x": [
          2003,
          2004,
          2005,
          2006,
          2007,
          2008,
          2009,
          2010,
          2011,
          2012,
          2013,
          2014,
          2015
         ],
         "y": [
          338,
          297,
          283,
          270,
          304,
          310,
          265,
          257,
          260,
          324,
          273,
          254,
          296
         ]
        },
        {
         "hoverinfo": "text",
         "hovertemplate": "<b>Month</b>: Jul<br><b>Year</b>: %{text}<br><b>Accidents</b>: %{y}<br><br>%{hovertext}<extra></extra>",
         "hovertext": [
          "Jul 2003 was the #105 worst month for accidents",
          "Jul 2004 was the #99 worst month for accidents",
          "Jul 2005 was the #131 worst month for accidents",
          "Jul 2006 was the #147 worst month for accidents",
          "Jul 2007 was the #131 worst month for accidents",
          "Jul 2008 was the #108 worst month for accidents",
          "Jul 2009 was the #134 worst month for accidents",
          "Jul 2010 was the #156 worst month for accidents",
          "Jul 2011 was the #141 worst month for accidents",
          "Jul 2012 was the #125 worst month for accidents",
          "Jul 2013 was the #116 worst month for accidents",
          "Jul 2014 was the #140 worst month for accidents",
          "Jul 2015 was the #126 worst month for accidents"
         ],
         "name": "Jul",
         "text": [
          313,
          321,
          293,
          264,
          293,
          312,
          291,
          244,
          279,
          300,
          308,
          282,
          298
         ],
         "type": "bar",
         "x": [
          2003,
          2004,
          2005,
          2006,
          2007,
          2008,
          2009,
          2010,
          2011,
          2012,
          2013,
          2014,
          2015
         ],
         "y": [
          313,
          321,
          293,
          264,
          293,
          312,
          291,
          244,
          279,
          300,
          308,
          282,
          298
         ]
        },
        {
         "hoverinfo": "text",
         "hovertemplate": "<b>Month</b>: Aug<br><b>Year</b>: %{text}<br><b>Accidents</b>: %{y}<br><br>%{hovertext}<extra></extra>",
         "hovertext": [
          "Aug 2003 was the #66 worst month for accidents",
          "Aug 2004 was the #82 worst month for accidents",
          "Aug 2005 was the #78 worst month for accidents",
          "Aug 2006 was the #74 worst month for accidents",
          "Aug 2007 was the #87 worst month for accidents",
          "Aug 2008 was the #71 worst month for accidents",
          "Aug 2009 was the #108 worst month for accidents",
          "Aug 2010 was the #96 worst month for accidents",
          "Aug 2011 was the #63 worst month for accidents",
          "Aug 2012 was the #48 worst month for accidents",
          "Aug 2013 was the #114 worst month for accidents",
          "Aug 2014 was the #63 worst month for accidents",
          "Aug 2015 was the #57 worst month for accidents"
         ],
         "name": "Aug",
         "text": [
          355,
          340,
          342,
          346,
          334,
          350,
          312,
          326,
          356,
          374,
          309,
          356,
          362
         ],
         "type": "bar",
         "x": [
          2003,
          2004,
          2005,
          2006,
          2007,
          2008,
          2009,
          2010,
          2011,
          2012,
          2013,
          2014,
          2015
         ],
         "y": [
          355,
          340,
          342,
          346,
          334,
          350,
          312,
          326,
          356,
          374,
          309,
          356,
          362
         ]
        },
        {
         "hoverinfo": "text",
         "hovertemplate": "<b>Month</b>: Sep<br><b>Year</b>: %{text}<br><b>Accidents</b>: %{y}<br><br>%{hovertext}<extra></extra>",
         "hovertext": [
          "Sep 2003 was the #11 worst month for accidents",
          "Sep 2004 was the #83 worst month for accidents",
          "Sep 2005 was the #81 worst month for accidents",
          "Sep 2006 was the #36 worst month for accidents",
          "Sep 2007 was the #20 worst month for accidents",
          "Sep 2008 was the #41 worst month for accidents",
          "Sep 2009 was the #30 worst month for accidents",
          "Sep 2010 was the #73 worst month for accidents",
          "Sep 2011 was the #26 worst month for accidents",
          "Sep 2012 was the #78 worst month for accidents",
          "Sep 2013 was the #15 worst month for accidents",
          "Sep 2014 was the #17 worst month for accidents",
          "Sep 2015 was the #9 worst month for accidents"
         ],
         "name": "Sep",
         "text": [
          422,
          339,
          341,
          380,
          399,
          378,
          385,
          348,
          391,
          342,
          414,
          406,
          431
         ],
         "type": "bar",
         "x": [
          2003,
          2004,
          2005,
          2006,
          2007,
          2008,
          2009,
          2010,
          2011,
          2012,
          2013,
          2014,
          2015
         ],
         "y": [
          422,
          339,
          341,
          380,
          399,
          378,
          385,
          348,
          391,
          342,
          414,
          406,
          431
         ]
        },
        {
         "hoverinfo": "text",
         "hovertemplate": "<b>Month</b>: Oct<br><b>Year</b>: %{text}<br><b>Accidents</b>: %{y}<br><br>%{hovertext}<extra></extra>",
         "hovertext": [
          "Oct 2003 was the #3 worst month for accidents",
          "Oct 2004 was the #12 worst month for accidents",
          "Oct 2005 was the #61 worst month for accidents",
          "Oct 2006 was the #1 worst month for accidents",
          "Oct 2007 was the #14 worst month for accidents",
          "Oct 2008 was the #13 worst month for accidents",
          "Oct 2009 was the #18 worst month for accidents",
          "Oct 2010 was the #16 worst month for accidents",
          "Oct 2011 was the #10 worst month for accidents",
          "Oct 2012 was the #1 worst month for accidents",
          "Oct 2013 was the #18 worst month for accidents",
          "Oct 2014 was the #8 worst month for accidents",
          "Oct 2015 was the #7 worst month for accidents"
         ],
         "name": "Oct",
         "text": [
          468,
          421,
          359,
          478,
          417,
          418,
          405,
          408,
          430,
          478,
          405,
          432,
          435
         ],
         "type": "bar",
         "x": [
          2003,
          2004,
          2005,
          2006,
          2007,
          2008,
          2009,
          2010,
          2011,
          2012,
          2013,
          2014,
          2015
         ],
         "y": [
          468,
          421,
          359,
          478,
          417,
          418,
          405,
          408,
          430,
          478,
          405,
          432,
          435
         ]
        },
        {
         "hoverinfo": "text",
         "hovertemplate": "<b>Month</b>: Nov<br><b>Year</b>: %{text}<br><b>Accidents</b>: %{y}<br><br>%{hovertext}<extra></extra>",
         "hovertext": [
          "Nov 2003 was the #5 worst month for accidents",
          "Nov 2004 was the #27 worst month for accidents",
          "Nov 2005 was the #30 worst month for accidents",
          "Nov 2006 was the #54 worst month for accidents",
          "Nov 2007 was the #23 worst month for accidents",
          "Nov 2008 was the #43 worst month for accidents",
          "Nov 2009 was the #85 worst month for accidents",
          "Nov 2010 was the #36 worst month for accidents",
          "Nov 2011 was the #43 worst month for accidents",
          "Nov 2012 was the #98 worst month for accidents",
          "Nov 2013 was the #42 worst month for accidents",
          "Nov 2014 was the #92 worst month for accidents",
          "Nov 2015 was the #21 worst month for accidents"
         ],
         "name": "Nov",
         "text": [
          443,
          390,
          385,
          366,
          392,
          376,
          336,
          380,
          376,
          323,
          377,
          327,
          396
         ],
         "type": "bar",
         "x": [
          2003,
          2004,
          2005,
          2006,
          2007,
          2008,
          2009,
          2010,
          2011,
          2012,
          2013,
          2014,
          2015
         ],
         "y": [
          443,
          390,
          385,
          366,
          392,
          376,
          336,
          380,
          376,
          323,
          377,
          327,
          396
         ]
        },
        {
         "hoverinfo": "text",
         "hovertemplate": "<b>Month</b>: Dec<br><b>Year</b>: %{text}<br><b>Accidents</b>: %{y}<br><br>%{hovertext}<extra></extra>",
         "hovertext": [
          "Dec 2003 was the #23 worst month for accidents",
          "Dec 2004 was the #85 worst month for accidents",
          "Dec 2005 was the #101 worst month for accidents",
          "Dec 2006 was the #108 worst month for accidents",
          "Dec 2007 was the #122 worst month for accidents",
          "Dec 2008 was the #6 worst month for accidents",
          "Dec 2009 was the #69 worst month for accidents",
          "Dec 2010 was the #34 worst month for accidents",
          "Dec 2011 was the #149 worst month for accidents",
          "Dec 2012 was the #57 worst month for accidents",
          "Dec 2013 was the #36 worst month for accidents",
          "Dec 2014 was the #30 worst month for accidents",
          "Dec 2015 was the #76 worst month for accidents"
         ],
         "name": "Dec",
         "text": [
          392,
          336,
          316,
          312,
          303,
          441,
          352,
          383,
          263,
          362,
          380,
          385,
          343
         ],
         "type": "bar",
         "x": [
          2003,
          2004,
          2005,
          2006,
          2007,
          2008,
          2009,
          2010,
          2011,
          2012,
          2013,
          2014,
          2015
         ],
         "y": [
          392,
          336,
          316,
          312,
          303,
          441,
          352,
          383,
          263,
          362,
          380,
          385,
          343
         ]
        }
       ],
       "layout": {
        "barmode": "stack",
        "legend": {
         "title": {
          "text": "Momth"
         }
        },
        "template": {
         "data": {
          "pie": [
           {
            "automargin": true,
            "type": "pie"
           }
          ]
         },
         "layout": {
          "xaxis": {
           "showgrid": true,
           "title": {
            "standoff": 15
           }
          },
          "yaxis": {
           "showgrid": true,
           "title": {
            "standoff": 15
           }
          }
         }
        },
        "title": {
         "font": {
          "color": "black",
          "family": "Helvetica, sans-serif",
          "size": 24
         },
         "text": "Number of Accidents by Month (2003-2015)",
         "x": 0.5,
         "xanchor": "center",
         "y": 0.9,
         "yanchor": "top"
        },
        "uniformtext": {
         "minsize": 8,
         "mode": "hide"
        },
        "xaxis": {
         "title": {
          "text": "Year"
         }
        },
        "yaxis": {
         "title": {
          "text": "Number of Accidents"
         }
        }
       }
      }
     },
     "metadata": {},
     "output_type": "display_data"
    }
   ],
   "source": [
    "# Same methodology as day_of_the_week, but with a few slight tweaks\n",
    "\n",
    "fig = go.Figure()\n",
    "\n",
    "\n",
    "for idx, month in enumerate(ordered_months):\n",
    "    month_data = accidents_long_df_month[accidents_long_df_month['Month'] == month]\n",
    "    fig.add_trace(go.Bar(\n",
    "        x=month_data['Year'],\n",
    "        y=month_data['Accidents'],\n",
    "        name=month,\n",
    "        text=month_data['Accidents'],  \n",
    "        hoverinfo='text',\n",
    "        hovertemplate='<b>Month</b>: ' + month + '<br>' +\n",
    "                      '<b>Year</b>: %{text}<br>' +\n",
    "                      '<b>Accidents</b>: %{y}<br><br>' +\n",
    "                      '%{hovertext}<extra></extra>', \n",
    "        hovertext=month_data['Tooltip'].str.replace(r\"(#\\d+)\", r\"<b>\\1</b>\"),\n",
    "    ))\n",
    "\n",
    "\n",
    "fig.update_layout(\n",
    "    barmode='stack', # Stacked instead of grouped\n",
    "    title={\n",
    "        'text': 'Number of Accidents by Month (2003-2015)',\n",
    "        'y':0.9,\n",
    "        'x':0.5,\n",
    "        'xanchor': 'center',\n",
    "        'yanchor': 'top',\n",
    "        'font': dict(\n",
    "            family=\"Helvetica, sans-serif\",\n",
    "            size=24,\n",
    "            color=\"black\",\n",
    "        ),\n",
    "    },\n",
    "    xaxis=dict(title='Year'),\n",
    "    yaxis=dict(title='Number of Accidents'),\n",
    "    legend_title='Momth',\n",
    "    uniformtext_minsize=8,\n",
    "    uniformtext_mode='hide',\n",
    "    template='gridon' # Using the gridon template adds helpful grid lines to the plot\n",
    ")\n",
    "\n",
    "\n",
    "fig.show()\n",
    "\n",
    "#py.plot(fig, filename='month_plot.html')"
   ]
  },
  {
   "cell_type": "markdown",
   "metadata": {},
   "source": [
    "# More Advanced Features: Number of Accidents by Time of Day (Polar Subplots)\n",
    "\n",
    "Creating the time of day polar plots provided some unique insights into the capabilities of Plotly, especially in terms of layout design and customization. Here's what I learned:\n",
    "\n",
    "## Uniformly Spaced Subplots\n",
    "- **Structured Visualization**: The `make_subplots` feature in Plotly is extremely powerful for creating complex, multi-plot layouts. For the time of day analysis, it allowed me to generate a uniform grid of polar plots, one for each year, ensuring consistency in presentation and making comparisons easier.\n",
    "\n",
    "## Flexible Title Positioning\n",
    "- **Creative Freedom with Titles**: A surprising and useful feature I discovered is the ability to place plot titles anywhere on the canvas. Moving the title to the bottom right corner was an experiment that showcased Plotly's flexibility in customizing plot components.\n",
    "\n",
    "## Additional Insights\n",
    "- **Interactive Elements on Subplots**: One of the strengths of Plotly is its interactivity, and this extends to subplots as well. Each polar plot maintained its interactive features, like hover data, enhancing the user experience.\n",
    "- **Customizing Polar Charts**: Adjusting the aesthetics and functionality of polar charts, such as the color scheme, radial and angular ticks, and hover information, provided a deeper understanding of Plotly's customization options.\n",
    "- **Learning Curve**: While creating multiple polar plots required a bit more coding effort, it was a valuable learning experience in understanding the structure and syntax specific to Plotly, particularly for more complex visualizations.\n",
    "\n",
    "In summary, the process of creating these polar plots was not only a lesson in data visualization but also an exploration of the artistic possibilities within data science. This experience has broadened my understanding of how interactive and engaging data presentations can be crafted."
   ]
  },
  {
   "cell_type": "code",
   "execution_count": 10,
   "metadata": {},
   "outputs": [
    {
     "data": {
      "text/html": [
       "<div>\n",
       "<style scoped>\n",
       "    .dataframe tbody tr th:only-of-type {\n",
       "        vertical-align: middle;\n",
       "    }\n",
       "\n",
       "    .dataframe tbody tr th {\n",
       "        vertical-align: top;\n",
       "    }\n",
       "\n",
       "    .dataframe thead th {\n",
       "        text-align: right;\n",
       "    }\n",
       "</style>\n",
       "<table border=\"1\" class=\"dataframe\">\n",
       "  <thead>\n",
       "    <tr style=\"text-align: right;\">\n",
       "      <th></th>\n",
       "      <th>Year</th>\n",
       "      <th>TimePeriod</th>\n",
       "      <th>Accidents</th>\n",
       "      <th>Rank</th>\n",
       "    </tr>\n",
       "  </thead>\n",
       "  <tbody>\n",
       "    <tr>\n",
       "      <th>0</th>\n",
       "      <td>2003</td>\n",
       "      <td>Afternoon</td>\n",
       "      <td>1304</td>\n",
       "      <td>1</td>\n",
       "    </tr>\n",
       "    <tr>\n",
       "      <th>1</th>\n",
       "      <td>2003</td>\n",
       "      <td>Early to Late Morning</td>\n",
       "      <td>322</td>\n",
       "      <td>55</td>\n",
       "    </tr>\n",
       "    <tr>\n",
       "      <th>2</th>\n",
       "      <td>2003</td>\n",
       "      <td>Late Afternoon to Evening</td>\n",
       "      <td>1216</td>\n",
       "      <td>6</td>\n",
       "    </tr>\n",
       "    <tr>\n",
       "      <th>3</th>\n",
       "      <td>2003</td>\n",
       "      <td>Midnight to Early Morning</td>\n",
       "      <td>206</td>\n",
       "      <td>77</td>\n",
       "    </tr>\n",
       "    <tr>\n",
       "      <th>4</th>\n",
       "      <td>2003</td>\n",
       "      <td>Morning to Noon</td>\n",
       "      <td>923</td>\n",
       "      <td>27</td>\n",
       "    </tr>\n",
       "  </tbody>\n",
       "</table>\n",
       "</div>"
      ],
      "text/plain": [
       "   Year                 TimePeriod  Accidents  Rank\n",
       "0  2003                  Afternoon       1304     1\n",
       "1  2003      Early to Late Morning        322    55\n",
       "2  2003  Late Afternoon to Evening       1216     6\n",
       "3  2003  Midnight to Early Morning        206    77\n",
       "4  2003            Morning to Noon        923    27"
      ]
     },
     "execution_count": 10,
     "metadata": {},
     "output_type": "execute_result"
    }
   ],
   "source": [
    "# First, we'll need to create a new column for the 4-hour time increments\n",
    "def get_time_period(hour):\n",
    "    if 0 <= hour < 4:\n",
    "        return 'Midnight to Early Morning'\n",
    "    elif 4 <= hour < 8:\n",
    "        return 'Early to Late Morning'\n",
    "    elif 8 <= hour < 12:\n",
    "        return 'Morning to Noon'\n",
    "    elif 12 <= hour < 16:\n",
    "        return 'Afternoon'\n",
    "    elif 16 <= hour < 20:\n",
    "        return 'Late Afternoon to Evening'\n",
    "    else:  # from 20 to 24\n",
    "        return 'Night'\n",
    "\n",
    "# Apply the function to the 'Hour' column (making sure to convert to proper hour format first)\n",
    "df['Hour'] = df['Hour'] // 100  # Convert from military time to standard\n",
    "df['TimePeriod'] = df['Hour'].apply(get_time_period)\n",
    "\n",
    "# Now, let's group and aggregate the data by year and the new 'TimePeriod'\n",
    "accidents_by_time_period = df.groupby(['Year', 'TimePeriod']).size().reset_index(name='Accidents')\n",
    "\n",
    "# Next, we calculate the global ranking for these time increments across all years\n",
    "accidents_by_time_period['Rank'] = accidents_by_time_period['Accidents'].rank(method='min', ascending=False).astype(int)\n",
    "\n",
    "# Let's take a look at the dataframe\n",
    "accidents_by_time_period.head()\n"
   ]
  },
  {
   "cell_type": "code",
   "execution_count": 11,
   "metadata": {},
   "outputs": [
    {
     "data": {
      "application/vnd.plotly.v1+json": {
       "config": {
        "plotlyServerURL": "https://plot.ly"
       },
       "data": [
        {
         "hoverinfo": "text",
         "hovertext": "<b>Afternoon</b><br>Number of Accidents=<b>1304</b><br>This is the #1 worst time for accidents",
         "marker": {
          "color": "#636EFA"
         },
         "name": "Afternoon",
         "r": [
          1304
         ],
         "showlegend": true,
         "subplot": "polar",
         "theta": [
          "Afternoon"
         ],
         "type": "barpolar"
        },
        {
         "hoverinfo": "text",
         "hovertext": "<b>Early to Late Morning</b><br>Number of Accidents=<b>322</b><br>This is the #55 worst time for accidents",
         "marker": {
          "color": "#EF553B"
         },
         "name": "Early to Late Morning",
         "r": [
          322
         ],
         "showlegend": true,
         "subplot": "polar",
         "theta": [
          "Early to Late Morning"
         ],
         "type": "barpolar"
        },
        {
         "hoverinfo": "text",
         "hovertext": "<b>Late Afternoon to Evening</b><br>Number of Accidents=<b>1216</b><br>This is the #6 worst time for accidents",
         "marker": {
          "color": "#00CC96"
         },
         "name": "Late Afternoon to Evening",
         "r": [
          1216
         ],
         "showlegend": true,
         "subplot": "polar",
         "theta": [
          "Late Afternoon to Evening"
         ],
         "type": "barpolar"
        },
        {
         "hoverinfo": "text",
         "hovertext": "<b>Midnight to Early Morning</b><br>Number of Accidents=<b>206</b><br>This is the #77 worst time for accidents",
         "marker": {
          "color": "#AB63FA"
         },
         "name": "Midnight to Early Morning",
         "r": [
          206
         ],
         "showlegend": true,
         "subplot": "polar",
         "theta": [
          "Midnight to Early Morning"
         ],
         "type": "barpolar"
        },
        {
         "hoverinfo": "text",
         "hovertext": "<b>Morning to Noon</b><br>Number of Accidents=<b>923</b><br>This is the #27 worst time for accidents",
         "marker": {
          "color": "#FFA15A"
         },
         "name": "Morning to Noon",
         "r": [
          923
         ],
         "showlegend": true,
         "subplot": "polar",
         "theta": [
          "Morning to Noon"
         ],
         "type": "barpolar"
        },
        {
         "hoverinfo": "text",
         "hovertext": "<b>Night</b><br>Number of Accidents=<b>557</b><br>This is the #40 worst time for accidents",
         "marker": {
          "color": "#19D3F3"
         },
         "name": "Night",
         "r": [
          557
         ],
         "showlegend": true,
         "subplot": "polar",
         "theta": [
          "Night"
         ],
         "type": "barpolar"
        },
        {
         "hoverinfo": "text",
         "hovertext": "<b>Afternoon</b><br>Number of Accidents=<b>1280</b><br>This is the #2 worst time for accidents",
         "marker": {
          "color": "#636EFA"
         },
         "name": "Afternoon",
         "r": [
          1280
         ],
         "showlegend": false,
         "subplot": "polar2",
         "theta": [
          "Afternoon"
         ],
         "type": "barpolar"
        },
        {
         "hoverinfo": "text",
         "hovertext": "<b>Early to Late Morning</b><br>Number of Accidents=<b>282</b><br>This is the #62 worst time for accidents",
         "marker": {
          "color": "#EF553B"
         },
         "name": "Early to Late Morning",
         "r": [
          282
         ],
         "showlegend": false,
         "subplot": "polar2",
         "theta": [
          "Early to Late Morning"
         ],
         "type": "barpolar"
        },
        {
         "hoverinfo": "text",
         "hovertext": "<b>Late Afternoon to Evening</b><br>Number of Accidents=<b>1102</b><br>This is the #19 worst time for accidents",
         "marker": {
          "color": "#00CC96"
         },
         "name": "Late Afternoon to Evening",
         "r": [
          1102
         ],
         "showlegend": false,
         "subplot": "polar2",
         "theta": [
          "Late Afternoon to Evening"
         ],
         "type": "barpolar"
        },
        {
         "hoverinfo": "text",
         "hovertext": "<b>Midnight to Early Morning</b><br>Number of Accidents=<b>220</b><br>This is the #76 worst time for accidents",
         "marker": {
          "color": "#AB63FA"
         },
         "name": "Midnight to Early Morning",
         "r": [
          220
         ],
         "showlegend": false,
         "subplot": "polar2",
         "theta": [
          "Midnight to Early Morning"
         ],
         "type": "barpolar"
        },
        {
         "hoverinfo": "text",
         "hovertext": "<b>Morning to Noon</b><br>Number of Accidents=<b>816</b><br>This is the #30 worst time for accidents",
         "marker": {
          "color": "#FFA15A"
         },
         "name": "Morning to Noon",
         "r": [
          816
         ],
         "showlegend": false,
         "subplot": "polar2",
         "theta": [
          "Morning to Noon"
         ],
         "type": "barpolar"
        },
        {
         "hoverinfo": "text",
         "hovertext": "<b>Night</b><br>Number of Accidents=<b>502</b><br>This is the #45 worst time for accidents",
         "marker": {
          "color": "#19D3F3"
         },
         "name": "Night",
         "r": [
          502
         ],
         "showlegend": false,
         "subplot": "polar2",
         "theta": [
          "Night"
         ],
         "type": "barpolar"
        },
        {
         "hoverinfo": "text",
         "hovertext": "<b>Afternoon</b><br>Number of Accidents=<b>1195</b><br>This is the #9 worst time for accidents",
         "marker": {
          "color": "#636EFA"
         },
         "name": "Afternoon",
         "r": [
          1195
         ],
         "showlegend": false,
         "subplot": "polar3",
         "theta": [
          "Afternoon"
         ],
         "type": "barpolar"
        },
        {
         "hoverinfo": "text",
         "hovertext": "<b>Early to Late Morning</b><br>Number of Accidents=<b>260</b><br>This is the #72 worst time for accidents",
         "marker": {
          "color": "#EF553B"
         },
         "name": "Early to Late Morning",
         "r": [
          260
         ],
         "showlegend": false,
         "subplot": "polar3",
         "theta": [
          "Early to Late Morning"
         ],
         "type": "barpolar"
        },
        {
         "hoverinfo": "text",
         "hovertext": "<b>Late Afternoon to Evening</b><br>Number of Accidents=<b>1050</b><br>This is the #26 worst time for accidents",
         "marker": {
          "color": "#00CC96"
         },
         "name": "Late Afternoon to Evening",
         "r": [
          1050
         ],
         "showlegend": false,
         "subplot": "polar3",
         "theta": [
          "Late Afternoon to Evening"
         ],
         "type": "barpolar"
        },
        {
         "hoverinfo": "text",
         "hovertext": "<b>Midnight to Early Morning</b><br>Number of Accidents=<b>204</b><br>This is the #78 worst time for accidents",
         "marker": {
          "color": "#AB63FA"
         },
         "name": "Midnight to Early Morning",
         "r": [
          204
         ],
         "showlegend": false,
         "subplot": "polar3",
         "theta": [
          "Midnight to Early Morning"
         ],
         "type": "barpolar"
        },
        {
         "hoverinfo": "text",
         "hovertext": "<b>Morning to Noon</b><br>Number of Accidents=<b>758</b><br>This is the #33 worst time for accidents",
         "marker": {
          "color": "#FFA15A"
         },
         "name": "Morning to Noon",
         "r": [
          758
         ],
         "showlegend": false,
         "subplot": "polar3",
         "theta": [
          "Morning to Noon"
         ],
         "type": "barpolar"
        },
        {
         "hoverinfo": "text",
         "hovertext": "<b>Night</b><br>Number of Accidents=<b>445</b><br>This is the #51 worst time for accidents",
         "marker": {
          "color": "#19D3F3"
         },
         "name": "Night",
         "r": [
          445
         ],
         "showlegend": false,
         "subplot": "polar3",
         "theta": [
          "Night"
         ],
         "type": "barpolar"
        },
        {
         "hoverinfo": "text",
         "hovertext": "<b>Afternoon</b><br>Number of Accidents=<b>1133</b><br>This is the #15 worst time for accidents",
         "marker": {
          "color": "#636EFA"
         },
         "name": "Afternoon",
         "r": [
          1133
         ],
         "showlegend": false,
         "subplot": "polar4",
         "theta": [
          "Afternoon"
         ],
         "type": "barpolar"
        },
        {
         "hoverinfo": "text",
         "hovertext": "<b>Early to Late Morning</b><br>Number of Accidents=<b>251</b><br>This is the #73 worst time for accidents",
         "marker": {
          "color": "#EF553B"
         },
         "name": "Early to Late Morning",
         "r": [
          251
         ],
         "showlegend": false,
         "subplot": "polar4",
         "theta": [
          "Early to Late Morning"
         ],
         "type": "barpolar"
        },
        {
         "hoverinfo": "text",
         "hovertext": "<b>Late Afternoon to Evening</b><br>Number of Accidents=<b>1089</b><br>This is the #22 worst time for accidents",
         "marker": {
          "color": "#00CC96"
         },
         "name": "Late Afternoon to Evening",
         "r": [
          1089
         ],
         "showlegend": false,
         "subplot": "polar4",
         "theta": [
          "Late Afternoon to Evening"
         ],
         "type": "barpolar"
        },
        {
         "hoverinfo": "text",
         "hovertext": "<b>Midnight to Early Morning</b><br>Number of Accidents=<b>235</b><br>This is the #75 worst time for accidents",
         "marker": {
          "color": "#AB63FA"
         },
         "name": "Midnight to Early Morning",
         "r": [
          235
         ],
         "showlegend": false,
         "subplot": "polar4",
         "theta": [
          "Midnight to Early Morning"
         ],
         "type": "barpolar"
        },
        {
         "hoverinfo": "text",
         "hovertext": "<b>Morning to Noon</b><br>Number of Accidents=<b>682</b><br>This is the #37 worst time for accidents",
         "marker": {
          "color": "#FFA15A"
         },
         "name": "Morning to Noon",
         "r": [
          682
         ],
         "showlegend": false,
         "subplot": "polar4",
         "theta": [
          "Morning to Noon"
         ],
         "type": "barpolar"
        },
        {
         "hoverinfo": "text",
         "hovertext": "<b>Night</b><br>Number of Accidents=<b>526</b><br>This is the #42 worst time for accidents",
         "marker": {
          "color": "#19D3F3"
         },
         "name": "Night",
         "r": [
          526
         ],
         "showlegend": false,
         "subplot": "polar4",
         "theta": [
          "Night"
         ],
         "type": "barpolar"
        },
        {
         "hoverinfo": "text",
         "hovertext": "<b>Afternoon</b><br>Number of Accidents=<b>1228</b><br>This is the #4 worst time for accidents",
         "marker": {
          "color": "#636EFA"
         },
         "name": "Afternoon",
         "r": [
          1228
         ],
         "showlegend": false,
         "subplot": "polar5",
         "theta": [
          "Afternoon"
         ],
         "type": "barpolar"
        },
        {
         "hoverinfo": "text",
         "hovertext": "<b>Early to Late Morning</b><br>Number of Accidents=<b>275</b><br>This is the #66 worst time for accidents",
         "marker": {
          "color": "#EF553B"
         },
         "name": "Early to Late Morning",
         "r": [
          275
         ],
         "showlegend": false,
         "subplot": "polar5",
         "theta": [
          "Early to Late Morning"
         ],
         "type": "barpolar"
        },
        {
         "hoverinfo": "text",
         "hovertext": "<b>Late Afternoon to Evening</b><br>Number of Accidents=<b>1118</b><br>This is the #17 worst time for accidents",
         "marker": {
          "color": "#00CC96"
         },
         "name": "Late Afternoon to Evening",
         "r": [
          1118
         ],
         "showlegend": false,
         "subplot": "polar5",
         "theta": [
          "Late Afternoon to Evening"
         ],
         "type": "barpolar"
        },
        {
         "hoverinfo": "text",
         "hovertext": "<b>Midnight to Early Morning</b><br>Number of Accidents=<b>269</b><br>This is the #69 worst time for accidents",
         "marker": {
          "color": "#AB63FA"
         },
         "name": "Midnight to Early Morning",
         "r": [
          269
         ],
         "showlegend": false,
         "subplot": "polar5",
         "theta": [
          "Midnight to Early Morning"
         ],
         "type": "barpolar"
        },
        {
         "hoverinfo": "text",
         "hovertext": "<b>Morning to Noon</b><br>Number of Accidents=<b>671</b><br>This is the #38 worst time for accidents",
         "marker": {
          "color": "#FFA15A"
         },
         "name": "Morning to Noon",
         "r": [
          671
         ],
         "showlegend": false,
         "subplot": "polar5",
         "theta": [
          "Morning to Noon"
         ],
         "type": "barpolar"
        },
        {
         "hoverinfo": "text",
         "hovertext": "<b>Night</b><br>Number of Accidents=<b>486</b><br>This is the #47 worst time for accidents",
         "marker": {
          "color": "#19D3F3"
         },
         "name": "Night",
         "r": [
          486
         ],
         "showlegend": false,
         "subplot": "polar5",
         "theta": [
          "Night"
         ],
         "type": "barpolar"
        },
        {
         "hoverinfo": "text",
         "hovertext": "<b>Afternoon</b><br>Number of Accidents=<b>1275</b><br>This is the #3 worst time for accidents",
         "marker": {
          "color": "#636EFA"
         },
         "name": "Afternoon",
         "r": [
          1275
         ],
         "showlegend": false,
         "subplot": "polar6",
         "theta": [
          "Afternoon"
         ],
         "type": "barpolar"
        },
        {
         "hoverinfo": "text",
         "hovertext": "<b>Early to Late Morning</b><br>Number of Accidents=<b>291</b><br>This is the #61 worst time for accidents",
         "marker": {
          "color": "#EF553B"
         },
         "name": "Early to Late Morning",
         "r": [
          291
         ],
         "showlegend": false,
         "subplot": "polar6",
         "theta": [
          "Early to Late Morning"
         ],
         "type": "barpolar"
        },
        {
         "hoverinfo": "text",
         "hovertext": "<b>Late Afternoon to Evening</b><br>Number of Accidents=<b>1197</b><br>This is the #8 worst time for accidents",
         "marker": {
          "color": "#00CC96"
         },
         "name": "Late Afternoon to Evening",
         "r": [
          1197
         ],
         "showlegend": false,
         "subplot": "polar6",
         "theta": [
          "Late Afternoon to Evening"
         ],
         "type": "barpolar"
        },
        {
         "hoverinfo": "text",
         "hovertext": "<b>Midnight to Early Morning</b><br>Number of Accidents=<b>282</b><br>This is the #62 worst time for accidents",
         "marker": {
          "color": "#AB63FA"
         },
         "name": "Midnight to Early Morning",
         "r": [
          282
         ],
         "showlegend": false,
         "subplot": "polar6",
         "theta": [
          "Midnight to Early Morning"
         ],
         "type": "barpolar"
        },
        {
         "hoverinfo": "text",
         "hovertext": "<b>Morning to Noon</b><br>Number of Accidents=<b>800</b><br>This is the #31 worst time for accidents",
         "marker": {
          "color": "#FFA15A"
         },
         "name": "Morning to Noon",
         "r": [
          800
         ],
         "showlegend": false,
         "subplot": "polar6",
         "theta": [
          "Morning to Noon"
         ],
         "type": "barpolar"
        },
        {
         "hoverinfo": "text",
         "hovertext": "<b>Night</b><br>Number of Accidents=<b>489</b><br>This is the #46 worst time for accidents",
         "marker": {
          "color": "#19D3F3"
         },
         "name": "Night",
         "r": [
          489
         ],
         "showlegend": false,
         "subplot": "polar6",
         "theta": [
          "Night"
         ],
         "type": "barpolar"
        },
        {
         "hoverinfo": "text",
         "hovertext": "<b>Afternoon</b><br>Number of Accidents=<b>1095</b><br>This is the #20 worst time for accidents",
         "marker": {
          "color": "#636EFA"
         },
         "name": "Afternoon",
         "r": [
          1095
         ],
         "showlegend": false,
         "subplot": "polar7",
         "theta": [
          "Afternoon"
         ],
         "type": "barpolar"
        },
        {
         "hoverinfo": "text",
         "hovertext": "<b>Early to Late Morning</b><br>Number of Accidents=<b>314</b><br>This is the #56 worst time for accidents",
         "marker": {
          "color": "#EF553B"
         },
         "name": "Early to Late Morning",
         "r": [
          314
         ],
         "showlegend": false,
         "subplot": "polar7",
         "theta": [
          "Early to Late Morning"
         ],
         "type": "barpolar"
        },
        {
         "hoverinfo": "text",
         "hovertext": "<b>Late Afternoon to Evening</b><br>Number of Accidents=<b>1184</b><br>This is the #10 worst time for accidents",
         "marker": {
          "color": "#00CC96"
         },
         "name": "Late Afternoon to Evening",
         "r": [
          1184
         ],
         "showlegend": false,
         "subplot": "polar7",
         "theta": [
          "Late Afternoon to Evening"
         ],
         "type": "barpolar"
        },
        {
         "hoverinfo": "text",
         "hovertext": "<b>Midnight to Early Morning</b><br>Number of Accidents=<b>274</b><br>This is the #67 worst time for accidents",
         "marker": {
          "color": "#AB63FA"
         },
         "name": "Midnight to Early Morning",
         "r": [
          274
         ],
         "showlegend": false,
         "subplot": "polar7",
         "theta": [
          "Midnight to Early Morning"
         ],
         "type": "barpolar"
        },
        {
         "hoverinfo": "text",
         "hovertext": "<b>Morning to Noon</b><br>Number of Accidents=<b>663</b><br>This is the #39 worst time for accidents",
         "marker": {
          "color": "#FFA15A"
         },
         "name": "Morning to Noon",
         "r": [
          663
         ],
         "showlegend": false,
         "subplot": "polar7",
         "theta": [
          "Morning to Noon"
         ],
         "type": "barpolar"
        },
        {
         "hoverinfo": "text",
         "hovertext": "<b>Night</b><br>Number of Accidents=<b>479</b><br>This is the #48 worst time for accidents",
         "marker": {
          "color": "#19D3F3"
         },
         "name": "Night",
         "r": [
          479
         ],
         "showlegend": false,
         "subplot": "polar7",
         "theta": [
          "Night"
         ],
         "type": "barpolar"
        },
        {
         "hoverinfo": "text",
         "hovertext": "<b>Afternoon</b><br>Number of Accidents=<b>1086</b><br>This is the #24 worst time for accidents",
         "marker": {
          "color": "#636EFA"
         },
         "name": "Afternoon",
         "r": [
          1086
         ],
         "showlegend": false,
         "subplot": "polar8",
         "theta": [
          "Afternoon"
         ],
         "type": "barpolar"
        },
        {
         "hoverinfo": "text",
         "hovertext": "<b>Early to Late Morning</b><br>Number of Accidents=<b>282</b><br>This is the #62 worst time for accidents",
         "marker": {
          "color": "#EF553B"
         },
         "name": "Early to Late Morning",
         "r": [
          282
         ],
         "showlegend": false,
         "subplot": "polar8",
         "theta": [
          "Early to Late Morning"
         ],
         "type": "barpolar"
        },
        {
         "hoverinfo": "text",
         "hovertext": "<b>Late Afternoon to Evening</b><br>Number of Accidents=<b>1147</b><br>This is the #14 worst time for accidents",
         "marker": {
          "color": "#00CC96"
         },
         "name": "Late Afternoon to Evening",
         "r": [
          1147
         ],
         "showlegend": false,
         "subplot": "polar8",
         "theta": [
          "Late Afternoon to Evening"
         ],
         "type": "barpolar"
        },
        {
         "hoverinfo": "text",
         "hovertext": "<b>Midnight to Early Morning</b><br>Number of Accidents=<b>304</b><br>This is the #59 worst time for accidents",
         "marker": {
          "color": "#AB63FA"
         },
         "name": "Midnight to Early Morning",
         "r": [
          304
         ],
         "showlegend": false,
         "subplot": "polar8",
         "theta": [
          "Midnight to Early Morning"
         ],
         "type": "barpolar"
        },
        {
         "hoverinfo": "text",
         "hovertext": "<b>Morning to Noon</b><br>Number of Accidents=<b>735</b><br>This is the #34 worst time for accidents",
         "marker": {
          "color": "#FFA15A"
         },
         "name": "Morning to Noon",
         "r": [
          735
         ],
         "showlegend": false,
         "subplot": "polar8",
         "theta": [
          "Morning to Noon"
         ],
         "type": "barpolar"
        },
        {
         "hoverinfo": "text",
         "hovertext": "<b>Night</b><br>Number of Accidents=<b>504</b><br>This is the #44 worst time for accidents",
         "marker": {
          "color": "#19D3F3"
         },
         "name": "Night",
         "r": [
          504
         ],
         "showlegend": false,
         "subplot": "polar8",
         "theta": [
          "Night"
         ],
         "type": "barpolar"
        },
        {
         "hoverinfo": "text",
         "hovertext": "<b>Afternoon</b><br>Number of Accidents=<b>1088</b><br>This is the #23 worst time for accidents",
         "marker": {
          "color": "#636EFA"
         },
         "name": "Afternoon",
         "r": [
          1088
         ],
         "showlegend": false,
         "subplot": "polar9",
         "theta": [
          "Afternoon"
         ],
         "type": "barpolar"
        },
        {
         "hoverinfo": "text",
         "hovertext": "<b>Early to Late Morning</b><br>Number of Accidents=<b>261</b><br>This is the #71 worst time for accidents",
         "marker": {
          "color": "#EF553B"
         },
         "name": "Early to Late Morning",
         "r": [
          261
         ],
         "showlegend": false,
         "subplot": "polar9",
         "theta": [
          "Early to Late Morning"
         ],
         "type": "barpolar"
        },
        {
         "hoverinfo": "text",
         "hovertext": "<b>Late Afternoon to Evening</b><br>Number of Accidents=<b>1126</b><br>This is the #16 worst time for accidents",
         "marker": {
          "color": "#00CC96"
         },
         "name": "Late Afternoon to Evening",
         "r": [
          1126
         ],
         "showlegend": false,
         "subplot": "polar9",
         "theta": [
          "Late Afternoon to Evening"
         ],
         "type": "barpolar"
        },
        {
         "hoverinfo": "text",
         "hovertext": "<b>Midnight to Early Morning</b><br>Number of Accidents=<b>273</b><br>This is the #68 worst time for accidents",
         "marker": {
          "color": "#AB63FA"
         },
         "name": "Midnight to Early Morning",
         "r": [
          273
         ],
         "showlegend": false,
         "subplot": "polar9",
         "theta": [
          "Midnight to Early Morning"
         ],
         "type": "barpolar"
        },
        {
         "hoverinfo": "text",
         "hovertext": "<b>Morning to Noon</b><br>Number of Accidents=<b>690</b><br>This is the #36 worst time for accidents",
         "marker": {
          "color": "#FFA15A"
         },
         "name": "Morning to Noon",
         "r": [
          690
         ],
         "showlegend": false,
         "subplot": "polar9",
         "theta": [
          "Morning to Noon"
         ],
         "type": "barpolar"
        },
        {
         "hoverinfo": "text",
         "hovertext": "<b>Night</b><br>Number of Accidents=<b>467</b><br>This is the #49 worst time for accidents",
         "marker": {
          "color": "#19D3F3"
         },
         "name": "Night",
         "r": [
          467
         ],
         "showlegend": false,
         "subplot": "polar9",
         "theta": [
          "Night"
         ],
         "type": "barpolar"
        },
        {
         "hoverinfo": "text",
         "hovertext": "<b>Afternoon</b><br>Number of Accidents=<b>1181</b><br>This is the #11 worst time for accidents",
         "marker": {
          "color": "#636EFA"
         },
         "name": "Afternoon",
         "r": [
          1181
         ],
         "showlegend": false,
         "subplot": "polar10",
         "theta": [
          "Afternoon"
         ],
         "type": "barpolar"
        },
        {
         "hoverinfo": "text",
         "hovertext": "<b>Early to Late Morning</b><br>Number of Accidents=<b>310</b><br>This is the #58 worst time for accidents",
         "marker": {
          "color": "#EF553B"
         },
         "name": "Early to Late Morning",
         "r": [
          310
         ],
         "showlegend": false,
         "subplot": "polar10",
         "theta": [
          "Early to Late Morning"
         ],
         "type": "barpolar"
        },
        {
         "hoverinfo": "text",
         "hovertext": "<b>Late Afternoon to Evening</b><br>Number of Accidents=<b>1201</b><br>This is the #7 worst time for accidents",
         "marker": {
          "color": "#00CC96"
         },
         "name": "Late Afternoon to Evening",
         "r": [
          1201
         ],
         "showlegend": false,
         "subplot": "polar10",
         "theta": [
          "Late Afternoon to Evening"
         ],
         "type": "barpolar"
        },
        {
         "hoverinfo": "text",
         "hovertext": "<b>Midnight to Early Morning</b><br>Number of Accidents=<b>300</b><br>This is the #60 worst time for accidents",
         "marker": {
          "color": "#AB63FA"
         },
         "name": "Midnight to Early Morning",
         "r": [
          300
         ],
         "showlegend": false,
         "subplot": "polar10",
         "theta": [
          "Midnight to Early Morning"
         ],
         "type": "barpolar"
        },
        {
         "hoverinfo": "text",
         "hovertext": "<b>Morning to Noon</b><br>Number of Accidents=<b>720</b><br>This is the #35 worst time for accidents",
         "marker": {
          "color": "#FFA15A"
         },
         "name": "Morning to Noon",
         "r": [
          720
         ],
         "showlegend": false,
         "subplot": "polar10",
         "theta": [
          "Morning to Noon"
         ],
         "type": "barpolar"
        },
        {
         "hoverinfo": "text",
         "hovertext": "<b>Night</b><br>Number of Accidents=<b>507</b><br>This is the #43 worst time for accidents",
         "marker": {
          "color": "#19D3F3"
         },
         "name": "Night",
         "r": [
          507
         ],
         "showlegend": false,
         "subplot": "polar10",
         "theta": [
          "Night"
         ],
         "type": "barpolar"
        },
        {
         "hoverinfo": "text",
         "hovertext": "<b>Afternoon</b><br>Number of Accidents=<b>1094</b><br>This is the #21 worst time for accidents",
         "marker": {
          "color": "#636EFA"
         },
         "name": "Afternoon",
         "r": [
          1094
         ],
         "showlegend": false,
         "subplot": "polar11",
         "theta": [
          "Afternoon"
         ],
         "type": "barpolar"
        },
        {
         "hoverinfo": "text",
         "hovertext": "<b>Early to Late Morning</b><br>Number of Accidents=<b>338</b><br>This is the #53 worst time for accidents",
         "marker": {
          "color": "#EF553B"
         },
         "name": "Early to Late Morning",
         "r": [
          338
         ],
         "showlegend": false,
         "subplot": "polar11",
         "theta": [
          "Early to Late Morning"
         ],
         "type": "barpolar"
        },
        {
         "hoverinfo": "text",
         "hovertext": "<b>Late Afternoon to Evening</b><br>Number of Accidents=<b>1084</b><br>This is the #25 worst time for accidents",
         "marker": {
          "color": "#00CC96"
         },
         "name": "Late Afternoon to Evening",
         "r": [
          1084
         ],
         "showlegend": false,
         "subplot": "polar11",
         "theta": [
          "Late Afternoon to Evening"
         ],
         "type": "barpolar"
        },
        {
         "hoverinfo": "text",
         "hovertext": "<b>Midnight to Early Morning</b><br>Number of Accidents=<b>278</b><br>This is the #65 worst time for accidents",
         "marker": {
          "color": "#AB63FA"
         },
         "name": "Midnight to Early Morning",
         "r": [
          278
         ],
         "showlegend": false,
         "subplot": "polar11",
         "theta": [
          "Midnight to Early Morning"
         ],
         "type": "barpolar"
        },
        {
         "hoverinfo": "text",
         "hovertext": "<b>Morning to Noon</b><br>Number of Accidents=<b>796</b><br>This is the #32 worst time for accidents",
         "marker": {
          "color": "#FFA15A"
         },
         "name": "Morning to Noon",
         "r": [
          796
         ],
         "showlegend": false,
         "subplot": "polar11",
         "theta": [
          "Morning to Noon"
         ],
         "type": "barpolar"
        },
        {
         "hoverinfo": "text",
         "hovertext": "<b>Night</b><br>Number of Accidents=<b>467</b><br>This is the #49 worst time for accidents",
         "marker": {
          "color": "#19D3F3"
         },
         "name": "Night",
         "r": [
          467
         ],
         "showlegend": false,
         "subplot": "polar11",
         "theta": [
          "Night"
         ],
         "type": "barpolar"
        },
        {
         "hoverinfo": "text",
         "hovertext": "<b>Afternoon</b><br>Number of Accidents=<b>1177</b><br>This is the #12 worst time for accidents",
         "marker": {
          "color": "#636EFA"
         },
         "name": "Afternoon",
         "r": [
          1177
         ],
         "showlegend": false,
         "subplot": "polar12",
         "theta": [
          "Afternoon"
         ],
         "type": "barpolar"
        },
        {
         "hoverinfo": "text",
         "hovertext": "<b>Early to Late Morning</b><br>Number of Accidents=<b>324</b><br>This is the #54 worst time for accidents",
         "marker": {
          "color": "#EF553B"
         },
         "name": "Early to Late Morning",
         "r": [
          324
         ],
         "showlegend": false,
         "subplot": "polar12",
         "theta": [
          "Early to Late Morning"
         ],
         "type": "barpolar"
        },
        {
         "hoverinfo": "text",
         "hovertext": "<b>Late Afternoon to Evening</b><br>Number of Accidents=<b>1110</b><br>This is the #18 worst time for accidents",
         "marker": {
          "color": "#00CC96"
         },
         "name": "Late Afternoon to Evening",
         "r": [
          1110
         ],
         "showlegend": false,
         "subplot": "polar12",
         "theta": [
          "Late Afternoon to Evening"
         ],
         "type": "barpolar"
        },
        {
         "hoverinfo": "text",
         "hovertext": "<b>Midnight to Early Morning</b><br>Number of Accidents=<b>262</b><br>This is the #70 worst time for accidents",
         "marker": {
          "color": "#AB63FA"
         },
         "name": "Midnight to Early Morning",
         "r": [
          262
         ],
         "showlegend": false,
         "subplot": "polar12",
         "theta": [
          "Midnight to Early Morning"
         ],
         "type": "barpolar"
        },
        {
         "hoverinfo": "text",
         "hovertext": "<b>Morning to Noon</b><br>Number of Accidents=<b>857</b><br>This is the #28 worst time for accidents",
         "marker": {
          "color": "#FFA15A"
         },
         "name": "Morning to Noon",
         "r": [
          857
         ],
         "showlegend": false,
         "subplot": "polar12",
         "theta": [
          "Morning to Noon"
         ],
         "type": "barpolar"
        },
        {
         "hoverinfo": "text",
         "hovertext": "<b>Night</b><br>Number of Accidents=<b>429</b><br>This is the #52 worst time for accidents",
         "marker": {
          "color": "#19D3F3"
         },
         "name": "Night",
         "r": [
          429
         ],
         "showlegend": false,
         "subplot": "polar12",
         "theta": [
          "Night"
         ],
         "type": "barpolar"
        },
        {
         "hoverinfo": "text",
         "hovertext": "<b>Afternoon</b><br>Number of Accidents=<b>1222</b><br>This is the #5 worst time for accidents",
         "marker": {
          "color": "#636EFA"
         },
         "name": "Afternoon",
         "r": [
          1222
         ],
         "showlegend": false,
         "subplot": "polar13",
         "theta": [
          "Afternoon"
         ],
         "type": "barpolar"
        },
        {
         "hoverinfo": "text",
         "hovertext": "<b>Early to Late Morning</b><br>Number of Accidents=<b>312</b><br>This is the #57 worst time for accidents",
         "marker": {
          "color": "#EF553B"
         },
         "name": "Early to Late Morning",
         "r": [
          312
         ],
         "showlegend": false,
         "subplot": "polar13",
         "theta": [
          "Early to Late Morning"
         ],
         "type": "barpolar"
        },
        {
         "hoverinfo": "text",
         "hovertext": "<b>Late Afternoon to Evening</b><br>Number of Accidents=<b>1150</b><br>This is the #13 worst time for accidents",
         "marker": {
          "color": "#00CC96"
         },
         "name": "Late Afternoon to Evening",
         "r": [
          1150
         ],
         "showlegend": false,
         "subplot": "polar13",
         "theta": [
          "Late Afternoon to Evening"
         ],
         "type": "barpolar"
        },
        {
         "hoverinfo": "text",
         "hovertext": "<b>Midnight to Early Morning</b><br>Number of Accidents=<b>240</b><br>This is the #74 worst time for accidents",
         "marker": {
          "color": "#AB63FA"
         },
         "name": "Midnight to Early Morning",
         "r": [
          240
         ],
         "showlegend": false,
         "subplot": "polar13",
         "theta": [
          "Midnight to Early Morning"
         ],
         "type": "barpolar"
        },
        {
         "hoverinfo": "text",
         "hovertext": "<b>Morning to Noon</b><br>Number of Accidents=<b>846</b><br>This is the #29 worst time for accidents",
         "marker": {
          "color": "#FFA15A"
         },
         "name": "Morning to Noon",
         "r": [
          846
         ],
         "showlegend": false,
         "subplot": "polar13",
         "theta": [
          "Morning to Noon"
         ],
         "type": "barpolar"
        },
        {
         "hoverinfo": "text",
         "hovertext": "<b>Night</b><br>Number of Accidents=<b>538</b><br>This is the #41 worst time for accidents",
         "marker": {
          "color": "#19D3F3"
         },
         "name": "Night",
         "r": [
          538
         ],
         "showlegend": false,
         "subplot": "polar13",
         "theta": [
          "Night"
         ],
         "type": "barpolar"
        }
       ],
       "layout": {
        "annotations": [
         {
          "font": {
           "size": 16
          },
          "showarrow": false,
          "text": "2003",
          "x": 0.08399999999999999,
          "xanchor": "center",
          "xref": "paper",
          "y": 1,
          "yanchor": "bottom",
          "yref": "paper"
         },
         {
          "font": {
           "size": 16
          },
          "showarrow": false,
          "text": "2004",
          "x": 0.292,
          "xanchor": "center",
          "xref": "paper",
          "y": 1,
          "yanchor": "bottom",
          "yref": "paper"
         },
         {
          "font": {
           "size": 16
          },
          "showarrow": false,
          "text": "2005",
          "x": 0.5,
          "xanchor": "center",
          "xref": "paper",
          "y": 1,
          "yanchor": "bottom",
          "yref": "paper"
         },
         {
          "font": {
           "size": 16
          },
          "showarrow": false,
          "text": "2006",
          "x": 0.708,
          "xanchor": "center",
          "xref": "paper",
          "y": 1,
          "yanchor": "bottom",
          "yref": "paper"
         },
         {
          "font": {
           "size": 16
          },
          "showarrow": false,
          "text": "2007",
          "x": 0.9159999999999999,
          "xanchor": "center",
          "xref": "paper",
          "y": 1,
          "yanchor": "bottom",
          "yref": "paper"
         },
         {
          "font": {
           "size": 16
          },
          "showarrow": false,
          "text": "2008",
          "x": 0.08399999999999999,
          "xanchor": "center",
          "xref": "paper",
          "y": 0.6111111111111112,
          "yanchor": "bottom",
          "yref": "paper"
         },
         {
          "font": {
           "size": 16
          },
          "showarrow": false,
          "text": "2009",
          "x": 0.292,
          "xanchor": "center",
          "xref": "paper",
          "y": 0.6111111111111112,
          "yanchor": "bottom",
          "yref": "paper"
         },
         {
          "font": {
           "size": 16
          },
          "showarrow": false,
          "text": "2010",
          "x": 0.5,
          "xanchor": "center",
          "xref": "paper",
          "y": 0.6111111111111112,
          "yanchor": "bottom",
          "yref": "paper"
         },
         {
          "font": {
           "size": 16
          },
          "showarrow": false,
          "text": "2011",
          "x": 0.708,
          "xanchor": "center",
          "xref": "paper",
          "y": 0.6111111111111112,
          "yanchor": "bottom",
          "yref": "paper"
         },
         {
          "font": {
           "size": 16
          },
          "showarrow": false,
          "text": "2012",
          "x": 0.9159999999999999,
          "xanchor": "center",
          "xref": "paper",
          "y": 0.6111111111111112,
          "yanchor": "bottom",
          "yref": "paper"
         },
         {
          "font": {
           "size": 16
          },
          "showarrow": false,
          "text": "2013",
          "x": 0.08399999999999999,
          "xanchor": "center",
          "xref": "paper",
          "y": 0.22222222222222224,
          "yanchor": "bottom",
          "yref": "paper"
         },
         {
          "font": {
           "size": 16
          },
          "showarrow": false,
          "text": "2014",
          "x": 0.292,
          "xanchor": "center",
          "xref": "paper",
          "y": 0.22222222222222224,
          "yanchor": "bottom",
          "yref": "paper"
         },
         {
          "font": {
           "size": 16
          },
          "showarrow": false,
          "text": "2015",
          "x": 0.5,
          "xanchor": "center",
          "xref": "paper",
          "y": 0.22222222222222224,
          "yanchor": "bottom",
          "yref": "paper"
         }
        ],
        "height": 1200,
        "polar": {
         "domain": {
          "x": [
           0,
           0.16799999999999998
          ],
          "y": [
           0.7777777777777778,
           1
          ]
         },
         "radialaxis": {
          "range": [
           0,
           1304
          ],
          "showticklabels": false
         }
        },
        "polar10": {
         "domain": {
          "x": [
           0.832,
           1
          ],
          "y": [
           0.3888888888888889,
           0.6111111111111112
          ]
         },
         "radialaxis": {
          "range": [
           0,
           1304
          ],
          "showticklabels": false
         }
        },
        "polar11": {
         "domain": {
          "x": [
           0,
           0.16799999999999998
          ],
          "y": [
           0,
           0.22222222222222224
          ]
         },
         "radialaxis": {
          "range": [
           0,
           1304
          ],
          "showticklabels": false
         }
        },
        "polar12": {
         "domain": {
          "x": [
           0.208,
           0.376
          ],
          "y": [
           0,
           0.22222222222222224
          ]
         },
         "radialaxis": {
          "range": [
           0,
           1304
          ],
          "showticklabels": false
         }
        },
        "polar13": {
         "domain": {
          "x": [
           0.416,
           0.584
          ],
          "y": [
           0,
           0.22222222222222224
          ]
         },
         "radialaxis": {
          "range": [
           0,
           1304
          ],
          "showticklabels": false
         }
        },
        "polar14": {
         "domain": {
          "x": [
           0.624,
           0.792
          ],
          "y": [
           0,
           0.22222222222222224
          ]
         },
         "radialaxis": {
          "range": [
           0,
           1304
          ],
          "showticklabels": false
         }
        },
        "polar15": {
         "domain": {
          "x": [
           0.832,
           1
          ],
          "y": [
           0,
           0.22222222222222224
          ]
         },
         "radialaxis": {
          "range": [
           0,
           1304
          ],
          "showticklabels": false
         }
        },
        "polar2": {
         "domain": {
          "x": [
           0.208,
           0.376
          ],
          "y": [
           0.7777777777777778,
           1
          ]
         },
         "radialaxis": {
          "range": [
           0,
           1304
          ],
          "showticklabels": false
         }
        },
        "polar3": {
         "domain": {
          "x": [
           0.416,
           0.584
          ],
          "y": [
           0.7777777777777778,
           1
          ]
         },
         "radialaxis": {
          "range": [
           0,
           1304
          ],
          "showticklabels": false
         }
        },
        "polar4": {
         "domain": {
          "x": [
           0.624,
           0.792
          ],
          "y": [
           0.7777777777777778,
           1
          ]
         },
         "radialaxis": {
          "range": [
           0,
           1304
          ],
          "showticklabels": false
         }
        },
        "polar5": {
         "domain": {
          "x": [
           0.832,
           1
          ],
          "y": [
           0.7777777777777778,
           1
          ]
         },
         "radialaxis": {
          "range": [
           0,
           1304
          ],
          "showticklabels": false
         }
        },
        "polar6": {
         "domain": {
          "x": [
           0,
           0.16799999999999998
          ],
          "y": [
           0.3888888888888889,
           0.6111111111111112
          ]
         },
         "radialaxis": {
          "range": [
           0,
           1304
          ],
          "showticklabels": false
         }
        },
        "polar7": {
         "domain": {
          "x": [
           0.208,
           0.376
          ],
          "y": [
           0.3888888888888889,
           0.6111111111111112
          ]
         },
         "radialaxis": {
          "range": [
           0,
           1304
          ],
          "showticklabels": false
         }
        },
        "polar8": {
         "domain": {
          "x": [
           0.416,
           0.584
          ],
          "y": [
           0.3888888888888889,
           0.6111111111111112
          ]
         },
         "radialaxis": {
          "range": [
           0,
           1304
          ],
          "showticklabels": false
         }
        },
        "polar9": {
         "domain": {
          "x": [
           0.624,
           0.792
          ],
          "y": [
           0.3888888888888889,
           0.6111111111111112
          ]
         },
         "radialaxis": {
          "range": [
           0,
           1304
          ],
          "showticklabels": false
         }
        },
        "template": {
         "data": {
          "bar": [
           {
            "error_x": {
             "color": "#f2f5fa"
            },
            "error_y": {
             "color": "#f2f5fa"
            },
            "marker": {
             "line": {
              "color": "rgb(17,17,17)",
              "width": 0.5
             },
             "pattern": {
              "fillmode": "overlay",
              "size": 10,
              "solidity": 0.2
             }
            },
            "type": "bar"
           }
          ],
          "barpolar": [
           {
            "marker": {
             "line": {
              "color": "rgb(17,17,17)",
              "width": 0.5
             },
             "pattern": {
              "fillmode": "overlay",
              "size": 10,
              "solidity": 0.2
             }
            },
            "type": "barpolar"
           }
          ],
          "carpet": [
           {
            "aaxis": {
             "endlinecolor": "#A2B1C6",
             "gridcolor": "#506784",
             "linecolor": "#506784",
             "minorgridcolor": "#506784",
             "startlinecolor": "#A2B1C6"
            },
            "baxis": {
             "endlinecolor": "#A2B1C6",
             "gridcolor": "#506784",
             "linecolor": "#506784",
             "minorgridcolor": "#506784",
             "startlinecolor": "#A2B1C6"
            },
            "type": "carpet"
           }
          ],
          "choropleth": [
           {
            "colorbar": {
             "outlinewidth": 0,
             "ticks": ""
            },
            "type": "choropleth"
           }
          ],
          "contour": [
           {
            "colorbar": {
             "outlinewidth": 0,
             "ticks": ""
            },
            "colorscale": [
             [
              0,
              "#0d0887"
             ],
             [
              0.1111111111111111,
              "#46039f"
             ],
             [
              0.2222222222222222,
              "#7201a8"
             ],
             [
              0.3333333333333333,
              "#9c179e"
             ],
             [
              0.4444444444444444,
              "#bd3786"
             ],
             [
              0.5555555555555556,
              "#d8576b"
             ],
             [
              0.6666666666666666,
              "#ed7953"
             ],
             [
              0.7777777777777778,
              "#fb9f3a"
             ],
             [
              0.8888888888888888,
              "#fdca26"
             ],
             [
              1,
              "#f0f921"
             ]
            ],
            "type": "contour"
           }
          ],
          "contourcarpet": [
           {
            "colorbar": {
             "outlinewidth": 0,
             "ticks": ""
            },
            "type": "contourcarpet"
           }
          ],
          "heatmap": [
           {
            "colorbar": {
             "outlinewidth": 0,
             "ticks": ""
            },
            "colorscale": [
             [
              0,
              "#0d0887"
             ],
             [
              0.1111111111111111,
              "#46039f"
             ],
             [
              0.2222222222222222,
              "#7201a8"
             ],
             [
              0.3333333333333333,
              "#9c179e"
             ],
             [
              0.4444444444444444,
              "#bd3786"
             ],
             [
              0.5555555555555556,
              "#d8576b"
             ],
             [
              0.6666666666666666,
              "#ed7953"
             ],
             [
              0.7777777777777778,
              "#fb9f3a"
             ],
             [
              0.8888888888888888,
              "#fdca26"
             ],
             [
              1,
              "#f0f921"
             ]
            ],
            "type": "heatmap"
           }
          ],
          "heatmapgl": [
           {
            "colorbar": {
             "outlinewidth": 0,
             "ticks": ""
            },
            "colorscale": [
             [
              0,
              "#0d0887"
             ],
             [
              0.1111111111111111,
              "#46039f"
             ],
             [
              0.2222222222222222,
              "#7201a8"
             ],
             [
              0.3333333333333333,
              "#9c179e"
             ],
             [
              0.4444444444444444,
              "#bd3786"
             ],
             [
              0.5555555555555556,
              "#d8576b"
             ],
             [
              0.6666666666666666,
              "#ed7953"
             ],
             [
              0.7777777777777778,
              "#fb9f3a"
             ],
             [
              0.8888888888888888,
              "#fdca26"
             ],
             [
              1,
              "#f0f921"
             ]
            ],
            "type": "heatmapgl"
           }
          ],
          "histogram": [
           {
            "marker": {
             "pattern": {
              "fillmode": "overlay",
              "size": 10,
              "solidity": 0.2
             }
            },
            "type": "histogram"
           }
          ],
          "histogram2d": [
           {
            "colorbar": {
             "outlinewidth": 0,
             "ticks": ""
            },
            "colorscale": [
             [
              0,
              "#0d0887"
             ],
             [
              0.1111111111111111,
              "#46039f"
             ],
             [
              0.2222222222222222,
              "#7201a8"
             ],
             [
              0.3333333333333333,
              "#9c179e"
             ],
             [
              0.4444444444444444,
              "#bd3786"
             ],
             [
              0.5555555555555556,
              "#d8576b"
             ],
             [
              0.6666666666666666,
              "#ed7953"
             ],
             [
              0.7777777777777778,
              "#fb9f3a"
             ],
             [
              0.8888888888888888,
              "#fdca26"
             ],
             [
              1,
              "#f0f921"
             ]
            ],
            "type": "histogram2d"
           }
          ],
          "histogram2dcontour": [
           {
            "colorbar": {
             "outlinewidth": 0,
             "ticks": ""
            },
            "colorscale": [
             [
              0,
              "#0d0887"
             ],
             [
              0.1111111111111111,
              "#46039f"
             ],
             [
              0.2222222222222222,
              "#7201a8"
             ],
             [
              0.3333333333333333,
              "#9c179e"
             ],
             [
              0.4444444444444444,
              "#bd3786"
             ],
             [
              0.5555555555555556,
              "#d8576b"
             ],
             [
              0.6666666666666666,
              "#ed7953"
             ],
             [
              0.7777777777777778,
              "#fb9f3a"
             ],
             [
              0.8888888888888888,
              "#fdca26"
             ],
             [
              1,
              "#f0f921"
             ]
            ],
            "type": "histogram2dcontour"
           }
          ],
          "mesh3d": [
           {
            "colorbar": {
             "outlinewidth": 0,
             "ticks": ""
            },
            "type": "mesh3d"
           }
          ],
          "parcoords": [
           {
            "line": {
             "colorbar": {
              "outlinewidth": 0,
              "ticks": ""
             }
            },
            "type": "parcoords"
           }
          ],
          "pie": [
           {
            "automargin": true,
            "type": "pie"
           }
          ],
          "scatter": [
           {
            "marker": {
             "line": {
              "color": "#283442"
             }
            },
            "type": "scatter"
           }
          ],
          "scatter3d": [
           {
            "line": {
             "colorbar": {
              "outlinewidth": 0,
              "ticks": ""
             }
            },
            "marker": {
             "colorbar": {
              "outlinewidth": 0,
              "ticks": ""
             }
            },
            "type": "scatter3d"
           }
          ],
          "scattercarpet": [
           {
            "marker": {
             "colorbar": {
              "outlinewidth": 0,
              "ticks": ""
             }
            },
            "type": "scattercarpet"
           }
          ],
          "scattergeo": [
           {
            "marker": {
             "colorbar": {
              "outlinewidth": 0,
              "ticks": ""
             }
            },
            "type": "scattergeo"
           }
          ],
          "scattergl": [
           {
            "marker": {
             "line": {
              "color": "#283442"
             }
            },
            "type": "scattergl"
           }
          ],
          "scattermapbox": [
           {
            "marker": {
             "colorbar": {
              "outlinewidth": 0,
              "ticks": ""
             }
            },
            "type": "scattermapbox"
           }
          ],
          "scatterpolar": [
           {
            "marker": {
             "colorbar": {
              "outlinewidth": 0,
              "ticks": ""
             }
            },
            "type": "scatterpolar"
           }
          ],
          "scatterpolargl": [
           {
            "marker": {
             "colorbar": {
              "outlinewidth": 0,
              "ticks": ""
             }
            },
            "type": "scatterpolargl"
           }
          ],
          "scatterternary": [
           {
            "marker": {
             "colorbar": {
              "outlinewidth": 0,
              "ticks": ""
             }
            },
            "type": "scatterternary"
           }
          ],
          "surface": [
           {
            "colorbar": {
             "outlinewidth": 0,
             "ticks": ""
            },
            "colorscale": [
             [
              0,
              "#0d0887"
             ],
             [
              0.1111111111111111,
              "#46039f"
             ],
             [
              0.2222222222222222,
              "#7201a8"
             ],
             [
              0.3333333333333333,
              "#9c179e"
             ],
             [
              0.4444444444444444,
              "#bd3786"
             ],
             [
              0.5555555555555556,
              "#d8576b"
             ],
             [
              0.6666666666666666,
              "#ed7953"
             ],
             [
              0.7777777777777778,
              "#fb9f3a"
             ],
             [
              0.8888888888888888,
              "#fdca26"
             ],
             [
              1,
              "#f0f921"
             ]
            ],
            "type": "surface"
           }
          ],
          "table": [
           {
            "cells": {
             "fill": {
              "color": "#506784"
             },
             "line": {
              "color": "rgb(17,17,17)"
             }
            },
            "header": {
             "fill": {
              "color": "#2a3f5f"
             },
             "line": {
              "color": "rgb(17,17,17)"
             }
            },
            "type": "table"
           }
          ]
         },
         "layout": {
          "annotationdefaults": {
           "arrowcolor": "#f2f5fa",
           "arrowhead": 0,
           "arrowwidth": 1
          },
          "autotypenumbers": "strict",
          "coloraxis": {
           "colorbar": {
            "outlinewidth": 0,
            "ticks": ""
           }
          },
          "colorscale": {
           "diverging": [
            [
             0,
             "#8e0152"
            ],
            [
             0.1,
             "#c51b7d"
            ],
            [
             0.2,
             "#de77ae"
            ],
            [
             0.3,
             "#f1b6da"
            ],
            [
             0.4,
             "#fde0ef"
            ],
            [
             0.5,
             "#f7f7f7"
            ],
            [
             0.6,
             "#e6f5d0"
            ],
            [
             0.7,
             "#b8e186"
            ],
            [
             0.8,
             "#7fbc41"
            ],
            [
             0.9,
             "#4d9221"
            ],
            [
             1,
             "#276419"
            ]
           ],
           "sequential": [
            [
             0,
             "#0d0887"
            ],
            [
             0.1111111111111111,
             "#46039f"
            ],
            [
             0.2222222222222222,
             "#7201a8"
            ],
            [
             0.3333333333333333,
             "#9c179e"
            ],
            [
             0.4444444444444444,
             "#bd3786"
            ],
            [
             0.5555555555555556,
             "#d8576b"
            ],
            [
             0.6666666666666666,
             "#ed7953"
            ],
            [
             0.7777777777777778,
             "#fb9f3a"
            ],
            [
             0.8888888888888888,
             "#fdca26"
            ],
            [
             1,
             "#f0f921"
            ]
           ],
           "sequentialminus": [
            [
             0,
             "#0d0887"
            ],
            [
             0.1111111111111111,
             "#46039f"
            ],
            [
             0.2222222222222222,
             "#7201a8"
            ],
            [
             0.3333333333333333,
             "#9c179e"
            ],
            [
             0.4444444444444444,
             "#bd3786"
            ],
            [
             0.5555555555555556,
             "#d8576b"
            ],
            [
             0.6666666666666666,
             "#ed7953"
            ],
            [
             0.7777777777777778,
             "#fb9f3a"
            ],
            [
             0.8888888888888888,
             "#fdca26"
            ],
            [
             1,
             "#f0f921"
            ]
           ]
          },
          "colorway": [
           "#636efa",
           "#EF553B",
           "#00cc96",
           "#ab63fa",
           "#FFA15A",
           "#19d3f3",
           "#FF6692",
           "#B6E880",
           "#FF97FF",
           "#FECB52"
          ],
          "font": {
           "color": "#f2f5fa"
          },
          "geo": {
           "bgcolor": "rgb(17,17,17)",
           "lakecolor": "rgb(17,17,17)",
           "landcolor": "rgb(17,17,17)",
           "showlakes": true,
           "showland": true,
           "subunitcolor": "#506784"
          },
          "hoverlabel": {
           "align": "left"
          },
          "hovermode": "closest",
          "mapbox": {
           "style": "dark"
          },
          "paper_bgcolor": "rgb(17,17,17)",
          "plot_bgcolor": "rgb(17,17,17)",
          "polar": {
           "angularaxis": {
            "gridcolor": "#506784",
            "linecolor": "#506784",
            "ticks": ""
           },
           "bgcolor": "rgb(17,17,17)",
           "radialaxis": {
            "gridcolor": "#506784",
            "linecolor": "#506784",
            "ticks": ""
           }
          },
          "scene": {
           "xaxis": {
            "backgroundcolor": "rgb(17,17,17)",
            "gridcolor": "#506784",
            "gridwidth": 2,
            "linecolor": "#506784",
            "showbackground": true,
            "ticks": "",
            "zerolinecolor": "#C8D4E3"
           },
           "yaxis": {
            "backgroundcolor": "rgb(17,17,17)",
            "gridcolor": "#506784",
            "gridwidth": 2,
            "linecolor": "#506784",
            "showbackground": true,
            "ticks": "",
            "zerolinecolor": "#C8D4E3"
           },
           "zaxis": {
            "backgroundcolor": "rgb(17,17,17)",
            "gridcolor": "#506784",
            "gridwidth": 2,
            "linecolor": "#506784",
            "showbackground": true,
            "ticks": "",
            "zerolinecolor": "#C8D4E3"
           }
          },
          "shapedefaults": {
           "line": {
            "color": "#f2f5fa"
           }
          },
          "sliderdefaults": {
           "bgcolor": "#C8D4E3",
           "bordercolor": "rgb(17,17,17)",
           "borderwidth": 1,
           "tickwidth": 0
          },
          "ternary": {
           "aaxis": {
            "gridcolor": "#506784",
            "linecolor": "#506784",
            "ticks": ""
           },
           "baxis": {
            "gridcolor": "#506784",
            "linecolor": "#506784",
            "ticks": ""
           },
           "bgcolor": "rgb(17,17,17)",
           "caxis": {
            "gridcolor": "#506784",
            "linecolor": "#506784",
            "ticks": ""
           }
          },
          "title": {
           "x": 0.05
          },
          "updatemenudefaults": {
           "bgcolor": "#506784",
           "borderwidth": 0
          },
          "xaxis": {
           "automargin": true,
           "gridcolor": "#283442",
           "linecolor": "#506784",
           "ticks": "",
           "title": {
            "standoff": 15
           },
           "zerolinecolor": "#283442",
           "zerolinewidth": 2
          },
          "yaxis": {
           "automargin": true,
           "gridcolor": "#283442",
           "linecolor": "#506784",
           "ticks": "",
           "title": {
            "standoff": 15
           },
           "zerolinecolor": "#283442",
           "zerolinewidth": 2
          }
         }
        },
        "title": {
         "font": {
          "color": "white",
          "family": "Helvetica, sans-serif",
          "size": 35
         },
         "text": "Number of Accidents by <br> Time of Day (2003-2015)",
         "x": 0.8,
         "xanchor": "right",
         "y": 0.1,
         "yanchor": "bottom"
        },
        "width": 2700
       }
      }
     },
     "metadata": {},
     "output_type": "display_data"
    }
   ],
   "source": [
    "# Unique years and time periods for creating the subplots\n",
    "unique_years = sorted(accidents_by_time_period['Year'].unique())\n",
    "unique_time_periods = accidents_by_time_period['TimePeriod'].unique()\n",
    "\n",
    "# Determine the layout for subplots\n",
    "rows = 3 \n",
    "cols = len(unique_years) // rows + (len(unique_years) % rows > 0)\n",
    "\n",
    "# Create subplots - each subplot will be a polar chart\n",
    "fig = make_subplots(rows=rows, cols=cols, specs=[[{'type': 'polar'}]*cols]*rows,\n",
    "                    subplot_titles=[str(year) for year in unique_years])\n",
    "\n",
    "#Add traces for legend (one per time period)\n",
    "time_period_colors = px.colors.qualitative.Plotly\n",
    "\n",
    "# Loop through each year and time period to create polar subplots\n",
    "for i, year in enumerate(unique_years):\n",
    "    row = (i // cols) + 1\n",
    "    col = (i % cols) + 1\n",
    "    year_data = accidents_by_time_period[accidents_by_time_period['Year'] == year]\n",
    "    \n",
    "    # Add a polar subplot for each year\n",
    "    for j, time_period in enumerate(unique_time_periods):\n",
    "        data = year_data[year_data['TimePeriod'] == time_period]\n",
    "        fig.add_trace(\n",
    "            go.Barpolar(\n",
    "                r=data['Accidents'],\n",
    "                theta=[time_period for _ in data['Accidents']],\n",
    "                name=time_period,\n",
    "                marker_color=time_period_colors[j % len(time_period_colors)],\n",
    "                hoverinfo='text',\n",
    "                hovertext=f\"<b>{time_period}</b><br>Number of Accidents=<b>{data['Accidents'].iloc[0]}</b><br>This is the #{data['Rank'].iloc[0]} worst time for accidents\",\n",
    "                showlegend=(i == 0)  # Only show legend for the first subplot\n",
    "            ),\n",
    "            row=row, col=col\n",
    "        )\n",
    "\n",
    "# Hide radial axis tick labels and update other polar properties as needed\n",
    "fig.update_polars(radialaxis_showticklabels=False)\n",
    "\n",
    "# Ensure that the layout for each polar subplot is uniform and that the colors are visible\n",
    "max_accidents = accidents_by_time_period['Accidents'].max()\n",
    "fig.update_polars(radialaxis_range=[0, max_accidents])\n",
    "\n",
    "# Set the height and width of the figure to increase the size of the subplots\n",
    "fig.update_layout(\n",
    "    height=1200,  # Increase as needed\n",
    "    width=2700,  # Increase as needed\n",
    "    title={\n",
    "        'text': 'Number of Accidents by <br> Time of Day (2003-2015)',\n",
    "        'y':0.1,\n",
    "        'x':.8,\n",
    "        'xanchor': 'right',\n",
    "        'yanchor': 'bottom',\n",
    "        'font': dict(\n",
    "            family=\"Helvetica, sans-serif\",\n",
    "            size=35,\n",
    "            color=\"white\",\n",
    "        ),\n",
    "    },\n",
    "    # title_text='Number of Accidents by Time of Day (2003-2015)',\n",
    "    # title_font=dict(size=24, color='white', family='Helvetica, sans-serif'),\n",
    "    template='plotly_dark', \n",
    ")\n",
    "\n",
    "# fig.update_layout(\n",
    "#     annotations=[\n",
    "#         go.layout.Annotation(\n",
    "#             text='Number of Accidents by <br> Time of Day (2003-2015)',\n",
    "#             x=.8,  # x=1 and xref='paper' places it at the far right\n",
    "#             y=0,  # y=0 and yref='paper' places it at the bottom\n",
    "#             xref='paper',\n",
    "#             yref='paper',\n",
    "#             showarrow=False,\n",
    "#             font=dict(\n",
    "#                 size=40,\n",
    "#                 family='Helvetica, sans-serif',\n",
    "#                 color=\"white\"\n",
    "#             ),\n",
    "#             align='right'\n",
    "#         )\n",
    "#     ]\n",
    "# )\n",
    "\n",
    "# Show the figure\n",
    "fig.show()\n",
    "\n",
    "#py.plot(fig, filename='time_of_day_plot.html')"
   ]
  },
  {
   "cell_type": "markdown",
   "metadata": {},
   "source": [
    "## Additional Tips and Tricks\n",
    "- **Interactive Elements**: Plotly's interactivity is a game-changer, especially for exploratory data analysis. The ability to zoom, pan, and hover for more information adds a dynamic layer to data exploration.\n",
    "- **Customization Options**: The level of customization with Plotly is extensive. From changing axis labels to modifying the color palette, the library provides numerous options to tailor your plots.\n",
    "- **Documentation and Community**: Plotly's documentation is comprehensive, offering examples and guidance for almost any type of plot. Additionally, the community around Plotly is active, providing a wealth of information and support.\n",
    "\n",
    "In summary, my journey with Plotly has been enlightening. The library's blend of simplicity, power, and aesthetic flexibility makes it an excellent tool for any data scientist looking to present data in an informative and visually appealing way.\n",
    "\n",
    "Thanks for reading!"
   ]
  }
 ],
 "metadata": {
  "kernelspec": {
   "display_name": "crash_venv",
   "language": "python",
   "name": "python3"
  },
  "language_info": {
   "codemirror_mode": {
    "name": "ipython",
    "version": 3
   },
   "file_extension": ".py",
   "mimetype": "text/x-python",
   "name": "python",
   "nbconvert_exporter": "python",
   "pygments_lexer": "ipython3",
   "version": "3.11.6"
  }
 },
 "nbformat": 4,
 "nbformat_minor": 2
}
